{
 "cells": [
  {
   "cell_type": "code",
   "execution_count": 32,
   "metadata": {},
   "outputs": [],
   "source": [
    "import numpy as np\n",
    "import pandas as pd\n",
    "import matplotlib.pyplot as plt\n",
    "from sklearn.tree import DecisionTreeClassifier, plot_tree\n",
    "from sklearn.metrics import classification_report, accuracy_score, roc_auc_score\n",
    "from sklearn.model_selection import train_test_split\n",
    "from sklearn.metrics import roc_curve, roc_auc_score\n",
    "import matplotlib.pyplot as plt\n",
    "from sklearn.linear_model import LinearRegression\n",
    "from sklearn.tree import DecisionTreeRegressor, plot_tree\n",
    "from sklearn.metrics import mean_squared_error, mean_absolute_error, r2_score\n",
    "from sklearn.model_selection import train_test_split\n"
   ]
  },
  {
   "cell_type": "code",
   "execution_count": 13,
   "metadata": {},
   "outputs": [
    {
     "data": {
      "text/html": [
       "<div>\n",
       "<style scoped>\n",
       "    .dataframe tbody tr th:only-of-type {\n",
       "        vertical-align: middle;\n",
       "    }\n",
       "\n",
       "    .dataframe tbody tr th {\n",
       "        vertical-align: top;\n",
       "    }\n",
       "\n",
       "    .dataframe thead th {\n",
       "        text-align: right;\n",
       "    }\n",
       "</style>\n",
       "<table border=\"1\" class=\"dataframe\">\n",
       "  <thead>\n",
       "    <tr style=\"text-align: right;\">\n",
       "      <th></th>\n",
       "      <th>instagram</th>\n",
       "      <th>facebook</th>\n",
       "      <th>blog</th>\n",
       "      <th>vendas</th>\n",
       "    </tr>\n",
       "  </thead>\n",
       "  <tbody>\n",
       "    <tr>\n",
       "      <th>0</th>\n",
       "      <td>84.72</td>\n",
       "      <td>19.20</td>\n",
       "      <td>48.96</td>\n",
       "      <td>12.60</td>\n",
       "    </tr>\n",
       "    <tr>\n",
       "      <th>1</th>\n",
       "      <td>351.48</td>\n",
       "      <td>33.96</td>\n",
       "      <td>51.84</td>\n",
       "      <td>25.68</td>\n",
       "    </tr>\n",
       "    <tr>\n",
       "      <th>2</th>\n",
       "      <td>135.48</td>\n",
       "      <td>20.88</td>\n",
       "      <td>46.32</td>\n",
       "      <td>14.28</td>\n",
       "    </tr>\n",
       "    <tr>\n",
       "      <th>3</th>\n",
       "      <td>116.64</td>\n",
       "      <td>1.80</td>\n",
       "      <td>36.00</td>\n",
       "      <td>11.52</td>\n",
       "    </tr>\n",
       "    <tr>\n",
       "      <th>4</th>\n",
       "      <td>318.72</td>\n",
       "      <td>24.00</td>\n",
       "      <td>0.36</td>\n",
       "      <td>20.88</td>\n",
       "    </tr>\n",
       "  </tbody>\n",
       "</table>\n",
       "</div>"
      ],
      "text/plain": [
       "   instagram  facebook   blog  vendas\n",
       "0      84.72     19.20  48.96   12.60\n",
       "1     351.48     33.96  51.84   25.68\n",
       "2     135.48     20.88  46.32   14.28\n",
       "3     116.64      1.80  36.00   11.52\n",
       "4     318.72     24.00   0.36   20.88"
      ]
     },
     "execution_count": 13,
     "metadata": {},
     "output_type": "execute_result"
    }
   ],
   "source": [
    "# Load the dataset\n",
    "\n",
    "df_mkt = pd.read_csv('./dados/mkt.csv')\n",
    "# Display the first few rows of the dataset\n",
    "df_mkt.head()"
   ]
  },
  {
   "cell_type": "code",
   "execution_count": 14,
   "metadata": {},
   "outputs": [
    {
     "name": "stdout",
     "output_type": "stream",
     "text": [
      "instagram    0.0\n",
      "facebook     0.0\n",
      "blog         0.0\n",
      "vendas       0.0\n",
      "dtype: float64\n"
     ]
    }
   ],
   "source": [
    "# Contando os Valores Ausentes e a porcentagem de valores ausentes\n",
    "percent_missing = (df_mkt.isnull().sum() / df_mkt.shape[0]) * 100\n",
    "print(percent_missing)"
   ]
  },
  {
   "cell_type": "code",
   "execution_count": 26,
   "metadata": {},
   "outputs": [],
   "source": [
    "X = df_mkt.drop(columns=['vendas'])\n",
    "y = df_mkt['vendas']\n",
    "\n",
    "# 2. Separando treino e teste\n",
    "X_train, X_test, y_train, y_test = train_test_split(X, y, test_size=0.3, random_state=42)\n"
   ]
  },
  {
   "cell_type": "code",
   "execution_count": null,
   "metadata": {},
   "outputs": [
    {
     "name": "stdout",
     "output_type": "stream",
     "text": [
      "\n",
      "Modelo: Regressão Linear\n",
      "R²: 0.88\n",
      "\n",
      "Modelo: Regressão Árvore de Decisão\n",
      "R²: 0.94\n"
     ]
    }
   ],
   "source": [
    "\n",
    "#  Regressão Linear\n",
    "modelo_linear = LinearRegression()\n",
    "modelo_linear.fit(X_train, y_train)\n",
    "y_pred_linear = modelo_linear.predict(X_test)\n",
    "\n",
    "def avaliar_modelo(nome, y_true, y_pred):\n",
    "    print(f\"\\nModelo: {nome}\")\n",
    "    print(f\"R²: {r2_score(y_true, y_pred):.2f}\")\n",
    "\n",
    "avaliar_modelo(\"Regressão Linear\", y_test, y_pred_linear)\n",
    "\n",
    "# Regressão por Árvore de Decisão\n",
    "modelo_arvore = DecisionTreeRegressor(random_state=42)\n",
    "modelo_arvore.fit(X_train, y_train)\n",
    "y_pred_arvore = modelo_arvore.predict(X_test)\n",
    "avaliar_modelo(\"Regressão Árvore de Decisão\", y_test, y_pred_arvore)"
   ]
  }
 ],
 "metadata": {
  "kernelspec": {
   "display_name": "Python 3",
   "language": "python",
   "name": "python3"
  },
  "language_info": {
   "codemirror_mode": {
    "name": "ipython",
    "version": 3
   },
   "file_extension": ".py",
   "mimetype": "text/x-python",
   "name": "python",
   "nbconvert_exporter": "python",
   "pygments_lexer": "ipython3",
   "version": "3.12.9"
  }
 },
 "nbformat": 4,
 "nbformat_minor": 2
}
