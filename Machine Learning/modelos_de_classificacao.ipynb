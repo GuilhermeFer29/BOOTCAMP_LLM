{
 "cells": [
  {
   "cell_type": "code",
   "execution_count": 2,
   "metadata": {},
   "outputs": [],
   "source": [
    "#Importando as bibliotecas\n",
    "import pandas as pd\n",
    "import matplotlib.pyplot as plt\n",
    "import seaborn as sns\n",
    "from sklearn.model_selection import train_test_split\n",
    "from sklearn.linear_model import LogisticRegression\n",
    "from sklearn.metrics import classification_report\n",
    "from sklearn.preprocessing import StandardScaler\n",
    "from sklearn.metrics import classification_report, confusion_matrix, roc_curve, auc\n",
    "import re"
   ]
  },
  {
   "cell_type": "code",
   "execution_count": 3,
   "metadata": {},
   "outputs": [
    {
     "name": "stdout",
     "output_type": "stream",
     "text": [
      "<class 'pandas.core.frame.DataFrame'>\n",
      "RangeIndex: 284807 entries, 0 to 284806\n",
      "Data columns (total 31 columns):\n",
      " #   Column  Non-Null Count   Dtype  \n",
      "---  ------  --------------   -----  \n",
      " 0   Time    284807 non-null  float64\n",
      " 1   V1      284807 non-null  float64\n",
      " 2   V2      284807 non-null  float64\n",
      " 3   V3      284807 non-null  float64\n",
      " 4   V4      284807 non-null  float64\n",
      " 5   V5      284807 non-null  float64\n",
      " 6   V6      284807 non-null  float64\n",
      " 7   V7      284807 non-null  float64\n",
      " 8   V8      284807 non-null  float64\n",
      " 9   V9      284807 non-null  float64\n",
      " 10  V10     284807 non-null  float64\n",
      " 11  V11     284807 non-null  float64\n",
      " 12  V12     284807 non-null  float64\n",
      " 13  V13     284807 non-null  float64\n",
      " 14  V14     284807 non-null  float64\n",
      " 15  V15     284807 non-null  float64\n",
      " 16  V16     284807 non-null  float64\n",
      " 17  V17     284807 non-null  float64\n",
      " 18  V18     284807 non-null  float64\n",
      " 19  V19     284807 non-null  float64\n",
      " 20  V20     284807 non-null  float64\n",
      " 21  V21     284807 non-null  float64\n",
      " 22  V22     284807 non-null  float64\n",
      " 23  V23     284807 non-null  float64\n",
      " 24  V24     284807 non-null  float64\n",
      " 25  V25     284807 non-null  float64\n",
      " 26  V26     284807 non-null  float64\n",
      " 27  V27     284807 non-null  float64\n",
      " 28  V28     284807 non-null  float64\n",
      " 29  Amount  284807 non-null  float64\n",
      " 30  Class   284807 non-null  int64  \n",
      "dtypes: float64(30), int64(1)\n",
      "memory usage: 67.4 MB\n",
      "Time      0\n",
      "V1        0\n",
      "V2        0\n",
      "V3        0\n",
      "V4        0\n",
      "V5        0\n",
      "V6        0\n",
      "V7        0\n",
      "V8        0\n",
      "V9        0\n",
      "V10       0\n",
      "V11       0\n",
      "V12       0\n",
      "V13       0\n",
      "V14       0\n",
      "V15       0\n",
      "V16       0\n",
      "V17       0\n",
      "V18       0\n",
      "V19       0\n",
      "V20       0\n",
      "V21       0\n",
      "V22       0\n",
      "V23       0\n",
      "V24       0\n",
      "V25       0\n",
      "V26       0\n",
      "V27       0\n",
      "V28       0\n",
      "Amount    0\n",
      "Class     0\n",
      "dtype: int64\n"
     ]
    }
   ],
   "source": [
    "# Carregando o dataset de filmes e creditcard\n",
    "\n",
    "df_creditcard = pd.read_csv('./dados/creditcard.csv')\n",
    "df_creditcard.info()\n",
    "\n",
    "# Verificando se há valores ausentes \n",
    "print(df_creditcard.isnull().sum())"
   ]
  },
  {
   "cell_type": "code",
   "execution_count": 4,
   "metadata": {},
   "outputs": [],
   "source": [
    "# Definindo as variáveis X e y\n",
    "\n",
    "X = df_creditcard.drop(columns=['Class'])\n",
    "y = df_creditcard['Class']\n",
    "\n",
    "# Encontrado Erro na Normalização dos dados CreditCard Corregindo esse Erro\n",
    "\n",
    "scaler = StandardScaler()\n",
    "X_scaled = scaler.fit_transform(X)\n",
    "\n"
   ]
  },
  {
   "cell_type": "code",
   "execution_count": 5,
   "metadata": {},
   "outputs": [],
   "source": [
    "# Dividindo os dados em conjuntos de treinamento e teste\n",
    "X_train, X_test, y_train, y_test = train_test_split(X_scaled, y, test_size=0.2, random_state=42)\n",
    "\n",
    "# Criando o modelo de regressão logística\n",
    "model_credit_card = LogisticRegression(max_iter=5000, solver= 'lbfgs').fit(X_train, y_train)"
   ]
  },
  {
   "cell_type": "code",
   "execution_count": 9,
   "metadata": {},
   "outputs": [
    {
     "name": "stdout",
     "output_type": "stream",
     "text": [
      "Acurácia: 0.9991\n",
      "Precisão: 0.8636\n",
      "Recall: 0.5816\n",
      "F1-Score: 0.6951\n",
      "Relatorio de Classificação:\n",
      "              precision    recall  f1-score   support\n",
      "\n",
      "           0       1.00      1.00      1.00     56864\n",
      "           1       0.86      0.58      0.70        98\n",
      "\n",
      "    accuracy                           1.00     56962\n",
      "   macro avg       0.93      0.79      0.85     56962\n",
      "weighted avg       1.00      1.00      1.00     56962\n",
      "\n"
     ]
    }
   ],
   "source": [
    "y_pred = model_credit_card.predict(X_test)\n",
    "y_prob = model_credit_card.predict_proba(X_test)[:, 1]\n",
    "\n",
    "# Avaliando o modelo\n",
    "from sklearn.metrics import accuracy_score, precision_score, recall_score, f1_score, classification_report\n",
    "\n",
    "accuracy = accuracy_score(y_test, y_pred)\n",
    "precision = precision_score(y_test, y_pred)\n",
    "recall = recall_score(y_test, y_pred)\n",
    "f1 = f1_score(y_test, y_pred)\n",
    "\n",
    "print(f\"Acurácia: {accuracy:.4f}\")\n",
    "print(f\"Precisão: {precision:.4f}\")\n",
    "print(f\"Recall: {recall:.4f}\")\n",
    "print(f\"F1-Score: {f1:.4f}\")\n",
    "\n",
    "\n",
    "print('Relatorio de Classificação:')\n",
    "print(classification_report(y_test, y_pred))"
   ]
  },
  {
   "cell_type": "code",
   "execution_count": 8,
   "metadata": {},
   "outputs": [
    {
     "data": {
      "image/png": "[encoded data removed]",
      "text/plain": [
       "<Figure size 400x300 with 1 Axes>"
      ]
     },
     "metadata": {},
     "output_type": "display_data"
    },
    {
     "data": {
      "image/png": "[encoded data removed]",
      "text/plain": [
       "<Figure size 400x300 with 1 Axes>"
      ]
     },
     "metadata": {},
     "output_type": "display_data"
    }
   ],
   "source": [
    "# Gerando a Matriz de Confusão\n",
    "\n",
    "plt.figure(figsize=(4, 3))\n",
    "conf_matrix = confusion_matrix(y_test, y_pred)\n",
    "sns.heatmap(conf_matrix, annot=True, fmt='d', cmap='Blues', cbar=False)\n",
    "plt.xlabel('Predicted')\n",
    "plt.ylabel('Actual')\n",
    "plt.title('Matriz de Confusão')\n",
    "plt.show()\n",
    "\n",
    "# Gerando a Curva ROC\n",
    "plt.figure(figsize=(4, 3))\n",
    "fpr, tpr, thresholds = roc_curve(y_test, y_pred)\n",
    "roc_auc = auc(fpr, tpr)\n",
    "plt.plot(fpr, tpr, color='darkorange', lw=2, label='ROC curve (area = %0.2f)' % roc_auc)\n",
    "plt.plot([0, 1], [0, 1], color='navy', lw=2, linestyle='--')\n",
    "plt.xlim([0.0, 1.0])\n",
    "plt.ylim([0.0, 1.05])\n",
    "plt.xlabel('False Positive Rate')\n",
    "plt.ylabel('True Positive Rate')\n",
    "plt.title('Receiver Operating Characteristic')\n",
    "plt.legend(loc='lower right')\n",
    "plt.show()"
   ]
  },
  {
   "cell_type": "markdown",
   "metadata": {},
   "source": [
    "### Conclusao do Modelo"
   ]
  },
  {
   "cell_type": "markdown",
   "metadata": {},
   "source": [
    "Link do dataset: https://www.kaggle.com/datasets/mlg-ulb/creditcardfraud\n",
    "\n",
    "Relatório Final: Detecção de Fraudes com Regressão Logística\n",
    "#### 1. Descrição do Problema e Dataset\n",
    "\n",
    "\n",
    "Objetivo: Detectar transações fraudulentas em cartões de crédito usando Regressão Logística.\n",
    "\n",
    "Dataset: Credit Card Fraud Detection (Kaggle), com 284.807 transações.\n",
    "\n",
    "Variáveis: 28 features anônimas (V1-V28, resultantes de PCA), Time (tempo desde a primeira transação), Amount (valor), Class (0 = normal, 1 = fraude).\n",
    "\n",
    "Desbalanceamento: Apenas 0.17% das transações são fraudes (classe minoritária).\n",
    "\n",
    "#### 2. Preparação dos Dados\n",
    "\n",
    "\n",
    "Divisão de Features: Separação entre variáveis preditoras (V1-V28, Time, Amount) e alvo (Class).\n",
    "\n",
    "Normalização: Padronização das features com StandardScaler para evitar viés de escala.\n",
    "\n",
    "Treino/Teste: Divisão em 80% treino e 20% teste (random_state=42 para reprodutibilidade).\n",
    "\n",
    "#### 3. Resultados da Regressão Logística\n",
    "\n",
    "\n",
    "Acurácia: 99.91% (alta devido ao desbalanceamento, mas enganosa).\n",
    "\n",
    "Precisão: 86.36% (86% das previsões de fraude estão corretas).\n",
    "\n",
    "Recall: 58.16% (apenas 58% das fraudes reais são detectadas).\n",
    "\n",
    "F1-Score: 69.51% (equilíbrio moderado entre precisão e recall).\n",
    "\n",
    "#### 4. Avaliação do Modelo\n",
    "\n",
    "Matriz de Confusão:\n",
    "\n",
    "56.864 verdadeiros negativos (transações normais corretamente identificadas).\n",
    "\n",
    "57 verdadeiros positivos (fraudes detectadas).\n",
    "\n",
    "41 falsos negativos (fraudes não detectadas – crítico).\n",
    "\n",
    "Curva ROC (AUC = 0.78): Desempenho moderado, mas insuficiente para um problema crítico como fraude.\n",
    "\n",
    "#### 5. Reflexões e Melhorias\n",
    "\n",
    "\n",
    "Problemas Identificados:\n",
    "\n",
    "Baixo recall (fraudes não detectadas são inaceitáveis na prática).\n",
    "\n",
    "Métricas infladas pelo desbalanceamento (classe majoritária domina a acurácia).\n",
    "\n",
    " #### Sugestões de Melhoria:\n",
    "\n",
    "Tratar Desbalanceamento: Técnicas como SMOTE, oversampling da classe minoritária ou undersampling da maioria.\n",
    "\n",
    "Experimentar Outros Modelos: Algoritmos como Random Forest ou XGBoost, que lidam melhor com desbalanceamento.\n",
    "\n",
    "Ajustar Hiperparâmetros: Otimizar thresholds de classificação para priorizar recall.\n",
    "\n",
    "Métricas Prioritárias: Focar em AUC-PR (Precision-Recall) ou Recall puro, mais relevantes para fraudes.\n",
    "\n",
    "Validação Cruzada Estratificada: Garantir representatividade das classes minoritárias durante a validação.\n",
    "\n",
    "#### Conclusão: \n",
    "O modelo tem alta acurácia, mas falha em detectar fraudes críticas (baixo recall). A Regressão Logística não é ideal para esse cenário desbalanceado. São necessárias técnicas específicas para melhorar a detecção de fraudes e reduzir riscos operacionais."
   ]
  }
 ],
 "metadata": {
  "kernelspec": {
   "display_name": "Python 3",
   "language": "python",
   "name": "python3"
  },
  "language_info": {
   "codemirror_mode": {
    "name": "ipython",
    "version": 3
   },
   "file_extension": ".py",
   "mimetype": "text/x-python",
   "name": "python",
   "nbconvert_exporter": "python",
   "pygments_lexer": "ipython3",
   "version": "3.12.9"
  }
 },
 "nbformat": 4,
 "nbformat_minor": 2
}
