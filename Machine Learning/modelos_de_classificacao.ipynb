{
 "cells": [
  {
   "cell_type": "code",
   "execution_count": 5,
   "metadata": {},
   "outputs": [],
   "source": [
    "#Importando as bibliotecas\n",
    "import pandas as pd\n",
    "import matplotlib.pyplot as plt\n",
    "import seaborn as sns\n",
    "from sklearn.model_selection import train_test_split\n",
    "from sklearn.linear_model import LogisticRegression\n",
    "from sklearn.metrics import classification_report\n",
    "from sklearn.preprocessing import StandardScaler\n",
    "from sklearn.metrics import classification_report, confusion_matrix, roc_curve, auc\n",
    "import re"
   ]
  },
  {
   "cell_type": "code",
   "execution_count": 12,
   "metadata": {},
   "outputs": [
    {
     "name": "stdout",
     "output_type": "stream",
     "text": [
      "<class 'pandas.core.frame.DataFrame'>\n",
      "RangeIndex: 284807 entries, 0 to 284806\n",
      "Data columns (total 31 columns):\n",
      " #   Column  Non-Null Count   Dtype  \n",
      "---  ------  --------------   -----  \n",
      " 0   Time    284807 non-null  float64\n",
      " 1   V1      284807 non-null  float64\n",
      " 2   V2      284807 non-null  float64\n",
      " 3   V3      284807 non-null  float64\n",
      " 4   V4      284807 non-null  float64\n",
      " 5   V5      284807 non-null  float64\n",
      " 6   V6      284807 non-null  float64\n",
      " 7   V7      284807 non-null  float64\n",
      " 8   V8      284807 non-null  float64\n",
      " 9   V9      284807 non-null  float64\n",
      " 10  V10     284807 non-null  float64\n",
      " 11  V11     284807 non-null  float64\n",
      " 12  V12     284807 non-null  float64\n",
      " 13  V13     284807 non-null  float64\n",
      " 14  V14     284807 non-null  float64\n",
      " 15  V15     284807 non-null  float64\n",
      " 16  V16     284807 non-null  float64\n",
      " 17  V17     284807 non-null  float64\n",
      " 18  V18     284807 non-null  float64\n",
      " 19  V19     284807 non-null  float64\n",
      " 20  V20     284807 non-null  float64\n",
      " 21  V21     284807 non-null  float64\n",
      " 22  V22     284807 non-null  float64\n",
      " 23  V23     284807 non-null  float64\n",
      " 24  V24     284807 non-null  float64\n",
      " 25  V25     284807 non-null  float64\n",
      " 26  V26     284807 non-null  float64\n",
      " 27  V27     284807 non-null  float64\n",
      " 28  V28     284807 non-null  float64\n",
      " 29  Amount  284807 non-null  float64\n",
      " 30  Class   284807 non-null  int64  \n",
      "dtypes: float64(30), int64(1)\n",
      "memory usage: 67.4 MB\n",
      "Time      0\n",
      "V1        0\n",
      "V2        0\n",
      "V3        0\n",
      "V4        0\n",
      "V5        0\n",
      "V6        0\n",
      "V7        0\n",
      "V8        0\n",
      "V9        0\n",
      "V10       0\n",
      "V11       0\n",
      "V12       0\n",
      "V13       0\n",
      "V14       0\n",
      "V15       0\n",
      "V16       0\n",
      "V17       0\n",
      "V18       0\n",
      "V19       0\n",
      "V20       0\n",
      "V21       0\n",
      "V22       0\n",
      "V23       0\n",
      "V24       0\n",
      "V25       0\n",
      "V26       0\n",
      "V27       0\n",
      "V28       0\n",
      "Amount    0\n",
      "Class     0\n",
      "dtype: int64\n"
     ]
    }
   ],
   "source": [
    "# Carregando o dataset de filmes e creditcard\n",
    "\n",
    "df_creditcard = pd.read_csv('./dados/creditcard.csv')\n",
    "df_creditcard.info()\n",
    "\n",
    "# Verificando se há valores ausentes \n",
    "print(df_creditcard.isnull().sum())"
   ]
  },
  {
   "cell_type": "code",
   "execution_count": 13,
   "metadata": {},
   "outputs": [],
   "source": [
    "# Definindo as variáveis X e y\n",
    "\n",
    "X = df_creditcard.drop(columns=['Class'])\n",
    "y = df_creditcard['Class']\n",
    "\n",
    "# Encontrado Erro na Normalização dos dados CreditCard Corregindo esse Erro\n",
    "\n",
    "scaler = StandardScaler()\n",
    "X_scaled = scaler.fit_transform(X)\n",
    "\n"
   ]
  },
  {
   "cell_type": "code",
   "execution_count": 14,
   "metadata": {},
   "outputs": [],
   "source": [
    "# Dividindo os dados em conjuntos de treinamento e teste\n",
    "X_train, X_test, y_train, y_test = train_test_split(X_scaled, y, test_size=0.2, random_state=42)\n",
    "\n",
    "# Criando o modelo de regressão logística\n",
    "model_credit_card = LogisticRegression(max_iter=5000, solver= 'lbfgs', class_weight='balanced').fit(X_train, y_train)"
   ]
  },
  {
   "cell_type": "code",
   "execution_count": 15,
   "metadata": {},
   "outputs": [
    {
     "name": "stdout",
     "output_type": "stream",
     "text": [
      "Acurácia: 0.9764\n",
      "Precisão: 0.0630\n",
      "Recall: 0.9184\n",
      "F1-Score: 0.1179\n",
      "Relatorio de Classificação:\n",
      "              precision    recall  f1-score   support\n",
      "\n",
      "           0       1.00      0.98      0.99     56864\n",
      "           1       0.06      0.92      0.12        98\n",
      "\n",
      "    accuracy                           0.98     56962\n",
      "   macro avg       0.53      0.95      0.55     56962\n",
      "weighted avg       1.00      0.98      0.99     56962\n",
      "\n"
     ]
    }
   ],
   "source": [
    "y_pred = model_credit_card.predict(X_test)\n",
    "y_prob = model_credit_card.predict_proba(X_test)[:, 1]\n",
    "\n",
    "# Avaliando o modelo\n",
    "from sklearn.metrics import accuracy_score, precision_score, recall_score, f1_score, classification_report\n",
    "\n",
    "accuracy = accuracy_score(y_test, y_pred)\n",
    "precision = precision_score(y_test, y_pred)\n",
    "recall = recall_score(y_test, y_pred)\n",
    "f1 = f1_score(y_test, y_pred)\n",
    "\n",
    "print(f\"Acurácia: {accuracy:.4f}\")\n",
    "print(f\"Precisão: {precision:.4f}\")\n",
    "print(f\"Recall: {recall:.4f}\")\n",
    "print(f\"F1-Score: {f1:.4f}\")\n",
    "\n",
    "\n",
    "print('Relatorio de Classificação:')\n",
    "print(classification_report(y_test, y_pred))"
   ]
  },
  {
   "cell_type": "code",
   "execution_count": 16,
   "metadata": {},
   "outputs": [
    {
     "data": {
      "image/png": "[encoded data removed]",
      "text/plain": [
       "<Figure size 400x300 with 1 Axes>"
      ]
     },
     "metadata": {},
     "output_type": "display_data"
    },
    {
     "data": {
      "image/png": "[encoded data removed]",
      "text/plain": [
       "<Figure size 400x300 with 1 Axes>"
      ]
     },
     "metadata": {},
     "output_type": "display_data"
    },
    {
     "name": "stdout",
     "output_type": "stream",
     "text": [
      "AUC final do modelo desbalanceado: 0.9474\n"
     ]
    }
   ],
   "source": [
    "# Gerando a Matriz de Confusão\n",
    "\n",
    "plt.figure(figsize=(4, 3))\n",
    "conf_matrix = confusion_matrix(y_test, y_pred)\n",
    "sns.heatmap(conf_matrix, annot=True, fmt='d', cmap='Blues', cbar=False)\n",
    "plt.xlabel('Predicted')\n",
    "plt.ylabel('Actual')\n",
    "plt.title('Matriz de Confusão')\n",
    "plt.show()\n",
    "\n",
    "# Gerando a Curva ROC\n",
    "plt.figure(figsize=(4, 3))\n",
    "fpr, tpr, thresholds = roc_curve(y_test, y_pred)\n",
    "roc_auc = auc(fpr, tpr)\n",
    "plt.plot(fpr, tpr, color='darkorange', lw=2, label='ROC curve (area = %0.2f)' % roc_auc)\n",
    "plt.plot([0, 1], [0, 1], color='navy', lw=2, linestyle='--')\n",
    "plt.xlim([0.0, 1.0])\n",
    "plt.ylim([0.0, 1.05])\n",
    "plt.xlabel('False Positive Rate')\n",
    "plt.ylabel('True Positive Rate')\n",
    "plt.title('Receiver Operating Characteristic')\n",
    "plt.legend(loc='lower right')\n",
    "plt.show()\n",
    "\n",
    "# Exibir AUC\n",
    "print(f\"AUC final do modelo desbalanceado: {roc_auc:.4f}\")"
   ]
  },
  {
   "cell_type": "markdown",
   "metadata": {},
   "source": [
    "### Conclusao do Modelo"
   ]
  },
  {
   "cell_type": "markdown",
   "metadata": {},
   "source": [
    "Link do dataset: https://www.kaggle.com/datasets/mlg-ulb/creditcardfraud\n",
    "\n",
    "Relatório Final: Detecção de Fraudes com Regressão Logística\n",
    "#### 1. Descrição do Problema e Dataset\n",
    "\n",
    "\n",
    "Objetivo: Detectar transações fraudulentas em cartões de crédito usando Regressão Logística.\n",
    "\n",
    "Dataset: Credit Card Fraud Detection (Kaggle), com 284.807 transações.\n",
    "\n",
    "Variáveis: 28 features anônimas (V1-V28, resultantes de PCA), Time (tempo desde a primeira transação), Amount (valor), Class (0 = normal, 1 = fraude).\n",
    "\n",
    "Desbalanceamento: Apenas 0.17% das transações são fraudes (classe minoritária).\n",
    "\n",
    "#### 2. Preparação dos Dados\n",
    "\n",
    "\n",
    "Divisão de Features: Separação entre variáveis preditoras (V1-V28, Time, Amount) e alvo (Class).\n",
    "\n",
    "Normalização: Padronização das features com StandardScaler para evitar viés de escala.\n",
    "\n",
    "Treino/Teste: Divisão em 80% treino e 20% teste (random_state=42 para reprodutibilidade).\n",
    "\n",
    "#### 3. Resultados da Regressão Logística\n",
    "\n",
    "\n",
    "Acurácia: 99.91% (alta devido ao desbalanceamento, mas enganosa).\n",
    "\n",
    "Precisão: 86.36% (86% das previsões de fraude estão corretas).\n",
    "\n",
    "Recall: 58.16% (apenas 58% das fraudes reais são detectadas).\n",
    "\n",
    "F1-Score: 69.51% (equilíbrio moderado entre precisão e recall).\n",
    "\n",
    "#### 4. Avaliação do Modelo\n",
    "\n",
    "Matriz de Confusão:\n",
    "\n",
    "56.864 verdadeiros negativos (transações normais corretamente identificadas).\n",
    "\n",
    "57 verdadeiros positivos (fraudes detectadas).\n",
    "\n",
    "41 falsos negativos (fraudes não detectadas – crítico).\n",
    "\n",
    "Curva ROC (AUC = 0.78): Desempenho moderado, mas insuficiente para um problema crítico como fraude.\n",
    "\n",
    "#### 5. Reflexões e Melhorias\n",
    "\n",
    "\n",
    "Problemas Identificados:\n",
    "\n",
    "Baixo recall (fraudes não detectadas são inaceitáveis na prática).\n",
    "\n",
    "Métricas infladas pelo desbalanceamento (classe majoritária domina a acurácia).\n",
    "\n",
    " #### Sugestões de Melhoria:\n",
    "\n",
    "Tratar Desbalanceamento: Técnicas como SMOTE, oversampling da classe minoritária ou undersampling da maioria.\n",
    "\n",
    "Experimentar Outros Modelos: Algoritmos como Random Forest ou XGBoost, que lidam melhor com desbalanceamento.\n",
    "\n",
    "Ajustar Hiperparâmetros: Otimizar thresholds de classificação para priorizar recall.\n",
    "\n",
    "Métricas Prioritárias: Focar em AUC-PR (Precision-Recall) ou Recall puro, mais relevantes para fraudes.\n",
    "\n",
    "Validação Cruzada Estratificada: Garantir representatividade das classes minoritárias durante a validação.\n",
    "\n",
    "#### Conclusão: \n",
    "O modelo tem alta acurácia, mas falha em detectar fraudes críticas (baixo recall). A Regressão Logística não é ideal para esse cenário desbalanceado. São necessárias técnicas específicas para melhorar a detecção de fraudes e reduzir riscos operacionais."
   ]
  },
  {
   "cell_type": "markdown",
   "metadata": {},
   "source": [
    "# TESTE DE BALANCEAMENTO\n"
   ]
  },
  {
   "cell_type": "code",
   "execution_count": 3,
   "metadata": {},
   "outputs": [
    {
     "data": {
      "text/plain": [
       "'\\nInterpretação do que é positivo e o que é negativo:\\n\\n0: Negativo\\n1: Positivo\\n\\nVerdadeiro negativo (VN): 265 previsto negativo (0) e real negativo (0)\\n\\nFalso negativo (FN): 14 previsto negativo (0) e real positivo (1)\\n\\nVerdadeiro positivo (VP): 18 previsto positivo (1) e real positivo (1)\\n\\nFalso positivo (FP): 3 previsto positivo (1) e real negativo (0)\\n\\n'"
      ]
     },
     "execution_count": 3,
     "metadata": {},
     "output_type": "execute_result"
    }
   ],
   "source": [
    "'''\n",
    "Interpretação do que é positivo e o que é negativo:\n",
    "\n",
    "0: Negativo\n",
    "1: Positivo\n",
    "\n",
    "Verdadeiro negativo (VN): 265 previsto negativo (0) e real negativo (0)\n",
    "\n",
    "Falso negativo (FN): 14 previsto negativo (0) e real positivo (1)\n",
    "\n",
    "Verdadeiro positivo (VP): 18 previsto positivo (1) e real positivo (1)\n",
    "\n",
    "Falso positivo (FP): 3 previsto positivo (1) e real negativo (0)\n",
    "\n",
    "'''"
   ]
  },
  {
   "cell_type": "markdown",
   "metadata": {},
   "source": [
    "# Usando o Label Enconder"
   ]
  },
  {
   "cell_type": "code",
   "execution_count": 35,
   "metadata": {},
   "outputs": [
    {
     "data": {
      "text/html": [
       "<div>\n",
       "<style scoped>\n",
       "    .dataframe tbody tr th:only-of-type {\n",
       "        vertical-align: middle;\n",
       "    }\n",
       "\n",
       "    .dataframe tbody tr th {\n",
       "        vertical-align: top;\n",
       "    }\n",
       "\n",
       "    .dataframe thead th {\n",
       "        text-align: right;\n",
       "    }\n",
       "</style>\n",
       "<table border=\"1\" class=\"dataframe\">\n",
       "  <thead>\n",
       "    <tr style=\"text-align: right;\">\n",
       "      <th></th>\n",
       "      <th>intl_plan</th>\n",
       "      <th>voice_mail_plan</th>\n",
       "      <th>number_vmail_messages</th>\n",
       "      <th>total_day_minutes</th>\n",
       "      <th>total_day_calls</th>\n",
       "      <th>total_day_charge</th>\n",
       "      <th>total_eve_minutes</th>\n",
       "      <th>total_eve_calls</th>\n",
       "      <th>total_eve_charge</th>\n",
       "      <th>total_night_minutes</th>\n",
       "      <th>total_night_calls</th>\n",
       "      <th>total_night_charge</th>\n",
       "      <th>total_intl_minutes</th>\n",
       "      <th>total_intl_calls</th>\n",
       "      <th>total_intl_charge</th>\n",
       "      <th>number_customer_service_calls</th>\n",
       "      <th>churned</th>\n",
       "    </tr>\n",
       "  </thead>\n",
       "  <tbody>\n",
       "    <tr>\n",
       "      <th>0</th>\n",
       "      <td>0.0</td>\n",
       "      <td>1.0</td>\n",
       "      <td>25.0</td>\n",
       "      <td>265.1</td>\n",
       "      <td>110.0</td>\n",
       "      <td>45.07</td>\n",
       "      <td>197.4</td>\n",
       "      <td>99.0</td>\n",
       "      <td>16.78</td>\n",
       "      <td>244.7</td>\n",
       "      <td>91.0</td>\n",
       "      <td>11.01</td>\n",
       "      <td>10.0</td>\n",
       "      <td>3.0</td>\n",
       "      <td>2.70</td>\n",
       "      <td>1.0</td>\n",
       "      <td>False</td>\n",
       "    </tr>\n",
       "    <tr>\n",
       "      <th>1</th>\n",
       "      <td>0.0</td>\n",
       "      <td>1.0</td>\n",
       "      <td>26.0</td>\n",
       "      <td>161.6</td>\n",
       "      <td>123.0</td>\n",
       "      <td>27.47</td>\n",
       "      <td>195.5</td>\n",
       "      <td>103.0</td>\n",
       "      <td>16.62</td>\n",
       "      <td>254.4</td>\n",
       "      <td>103.0</td>\n",
       "      <td>NaN</td>\n",
       "      <td>NaN</td>\n",
       "      <td>3.0</td>\n",
       "      <td>3.70</td>\n",
       "      <td>1.0</td>\n",
       "      <td>False</td>\n",
       "    </tr>\n",
       "    <tr>\n",
       "      <th>2</th>\n",
       "      <td>0.0</td>\n",
       "      <td>0.0</td>\n",
       "      <td>0.0</td>\n",
       "      <td>243.4</td>\n",
       "      <td>114.0</td>\n",
       "      <td>41.38</td>\n",
       "      <td>121.2</td>\n",
       "      <td>NaN</td>\n",
       "      <td>10.30</td>\n",
       "      <td>162.6</td>\n",
       "      <td>104.0</td>\n",
       "      <td>7.32</td>\n",
       "      <td>12.2</td>\n",
       "      <td>5.0</td>\n",
       "      <td>3.29</td>\n",
       "      <td>0.0</td>\n",
       "      <td>False</td>\n",
       "    </tr>\n",
       "    <tr>\n",
       "      <th>3</th>\n",
       "      <td>1.0</td>\n",
       "      <td>0.0</td>\n",
       "      <td>0.0</td>\n",
       "      <td>299.4</td>\n",
       "      <td>NaN</td>\n",
       "      <td>50.90</td>\n",
       "      <td>61.9</td>\n",
       "      <td>88.0</td>\n",
       "      <td>5.26</td>\n",
       "      <td>NaN</td>\n",
       "      <td>89.0</td>\n",
       "      <td>8.86</td>\n",
       "      <td>6.6</td>\n",
       "      <td>7.0</td>\n",
       "      <td>1.78</td>\n",
       "      <td>2.0</td>\n",
       "      <td>False</td>\n",
       "    </tr>\n",
       "    <tr>\n",
       "      <th>4</th>\n",
       "      <td>1.0</td>\n",
       "      <td>0.0</td>\n",
       "      <td>0.0</td>\n",
       "      <td>166.7</td>\n",
       "      <td>113.0</td>\n",
       "      <td>28.34</td>\n",
       "      <td>148.3</td>\n",
       "      <td>122.0</td>\n",
       "      <td>12.61</td>\n",
       "      <td>186.9</td>\n",
       "      <td>121.0</td>\n",
       "      <td>8.41</td>\n",
       "      <td>10.1</td>\n",
       "      <td>3.0</td>\n",
       "      <td>2.73</td>\n",
       "      <td>3.0</td>\n",
       "      <td>False</td>\n",
       "    </tr>\n",
       "  </tbody>\n",
       "</table>\n",
       "</div>"
      ],
      "text/plain": [
       "   intl_plan  voice_mail_plan  number_vmail_messages  total_day_minutes  \\\n",
       "0        0.0              1.0                   25.0              265.1   \n",
       "1        0.0              1.0                   26.0              161.6   \n",
       "2        0.0              0.0                    0.0              243.4   \n",
       "3        1.0              0.0                    0.0              299.4   \n",
       "4        1.0              0.0                    0.0              166.7   \n",
       "\n",
       "   total_day_calls  total_day_charge  total_eve_minutes  total_eve_calls  \\\n",
       "0            110.0             45.07              197.4             99.0   \n",
       "1            123.0             27.47              195.5            103.0   \n",
       "2            114.0             41.38              121.2              NaN   \n",
       "3              NaN             50.90               61.9             88.0   \n",
       "4            113.0             28.34              148.3            122.0   \n",
       "\n",
       "   total_eve_charge  total_night_minutes  total_night_calls  \\\n",
       "0             16.78                244.7               91.0   \n",
       "1             16.62                254.4              103.0   \n",
       "2             10.30                162.6              104.0   \n",
       "3              5.26                  NaN               89.0   \n",
       "4             12.61                186.9              121.0   \n",
       "\n",
       "   total_night_charge  total_intl_minutes  total_intl_calls  \\\n",
       "0               11.01                10.0               3.0   \n",
       "1                 NaN                 NaN               3.0   \n",
       "2                7.32                12.2               5.0   \n",
       "3                8.86                 6.6               7.0   \n",
       "4                8.41                10.1               3.0   \n",
       "\n",
       "   total_intl_charge  number_customer_service_calls  churned  \n",
       "0               2.70                            1.0    False  \n",
       "1               3.70                            1.0    False  \n",
       "2               3.29                            0.0    False  \n",
       "3               1.78                            2.0    False  \n",
       "4               2.73                            3.0    False  "
      ]
     },
     "execution_count": 35,
     "metadata": {},
     "output_type": "execute_result"
    }
   ],
   "source": [
    "df_churn = pd.read_csv('./dados/Churn.csv')\n",
    "df_churn.head()\n"
   ]
  },
  {
   "cell_type": "code",
   "execution_count": 36,
   "metadata": {},
   "outputs": [
    {
     "name": "stdout",
     "output_type": "stream",
     "text": [
      "----------------------------------------\n",
      "total_night_minutes              9.26\n",
      "total_eve_calls                  8.70\n",
      "number_customer_service_calls    8.14\n",
      "voice_mail_plan                  8.06\n",
      "total_day_calls                  7.58\n",
      "total_eve_charge                 7.52\n",
      "total_day_minutes                7.40\n",
      "total_day_charge                 6.74\n",
      "total_intl_calls                 6.40\n",
      "total_intl_minutes               6.18\n",
      "total_intl_charge                6.06\n",
      "intl_plan                        3.70\n",
      "total_night_calls                3.56\n",
      "number_vmail_messages            3.22\n",
      "total_eve_minutes                2.12\n",
      "total_night_charge               1.92\n",
      "churned                          0.00\n",
      "dtype: float64\n"
     ]
    }
   ],
   "source": [
    "total_null = df_churn.isnull().sum().sort_values(ascending=False)\n",
    "percent_null = (total_null/df_churn.shape[0]).sort_values(ascending=False)\n",
    "df_churn.fillna(0, inplace=False )\n",
    "\n",
    "\n",
    "print('-' * 40)\n",
    "print(percent_null * 100)"
   ]
  },
  {
   "cell_type": "code",
   "execution_count": 37,
   "metadata": {},
   "outputs": [],
   "source": [
    "from sklearn.preprocessing import LabelEncoder\n",
    "le = LabelEncoder()\n",
    "df_churn['churned'] = le.fit_transform(df_churn['churned'])"
   ]
  },
  {
   "cell_type": "code",
   "execution_count": 49,
   "metadata": {},
   "outputs": [
    {
     "data": {
      "text/plain": [
       "churned\n",
       "0    4293\n",
       "1     707\n",
       "dtype: int64"
      ]
     },
     "execution_count": 49,
     "metadata": {},
     "output_type": "execute_result"
    }
   ],
   "source": [
    "df_churn.groupby('churned').size()\n"
   ]
  },
  {
   "cell_type": "code",
   "execution_count": 43,
   "metadata": {},
   "outputs": [
    {
     "name": "stdout",
     "output_type": "stream",
     "text": [
      "Acurácia: 0.9520\n",
      "Precisão: 0.8421\n",
      "Recall: 0.8058\n",
      "F1-Score: 0.8235\n",
      "Relatorio de Classificação:\n",
      "              precision    recall  f1-score   support\n",
      "\n",
      "           0       0.97      0.98      0.97       861\n",
      "           1       0.84      0.81      0.82       139\n",
      "\n",
      "    accuracy                           0.95      1000\n",
      "   macro avg       0.91      0.89      0.90      1000\n",
      "weighted avg       0.95      0.95      0.95      1000\n",
      "\n"
     ]
    }
   ],
   "source": [
    "# Definindo as variáveis X e y\n",
    "\n",
    "X = df_churn.drop(columns=['churned', ])\n",
    "y = df_churn['churned']\n",
    "\n",
    "# Encontrado Erro na Normalização dos dados CreditCard Corregindo esse Erro\n",
    "\n",
    "scaler = StandardScaler()\n",
    "X_scaled = scaler.fit_transform(X)\n",
    "\n",
    "# Dividindo os dados em conjuntos de treinamento e teste\n",
    "X_train, X_test, y_train, y_test = train_test_split(X_scaled, y, test_size=0.2, random_state=42)\n",
    "\n",
    "# Criando o modelo de regressão logística\n",
    "from sklearn.ensemble import HistGradientBoostingClassifier\n",
    "\n",
    "model_churned = HistGradientBoostingClassifier(class_weight='balanced').fit(X_train, y_train)\n",
    "y_pred = model_churned.predict(X_test)\n",
    "y_prob = model_churned.predict_proba(X_test)[:, 1]\n",
    "\n",
    "# Avaliando o modelo\n",
    "from sklearn.metrics import accuracy_score, precision_score, recall_score, f1_score, classification_report\n",
    "\n",
    "accuracy = accuracy_score(y_test, y_pred)\n",
    "precision = precision_score(y_test, y_pred)\n",
    "recall = recall_score(y_test, y_pred)\n",
    "f1 = f1_score(y_test, y_pred)\n",
    "\n",
    "print(f\"Acurácia: {accuracy:.4f}\")\n",
    "print(f\"Precisão: {precision:.4f}\")\n",
    "print(f\"Recall: {recall:.4f}\")\n",
    "print(f\"F1-Score: {f1:.4f}\")\n",
    "\n",
    "\n",
    "print('Relatorio de Classificação:')\n",
    "print(classification_report(y_test, y_pred))"
   ]
  },
  {
   "cell_type": "code",
   "execution_count": 44,
   "metadata": {},
   "outputs": [
    {
     "data": {
      "image/png": "[encoded data removed]",
      "text/plain": [
       "<Figure size 400x300 with 1 Axes>"
      ]
     },
     "metadata": {},
     "output_type": "display_data"
    },
    {
     "data": {
      "image/png": "[encoded data removed]",
      "text/plain": [
       "<Figure size 400x300 with 1 Axes>"
      ]
     },
     "metadata": {},
     "output_type": "display_data"
    },
    {
     "name": "stdout",
     "output_type": "stream",
     "text": [
      "AUC final do modelo desbalanceado: 0.8907\n"
     ]
    }
   ],
   "source": [
    "# Gerando a Matriz de Confusão\n",
    "\n",
    "plt.figure(figsize=(4, 3))\n",
    "conf_matrix = confusion_matrix(y_test, y_pred)\n",
    "sns.heatmap(conf_matrix, annot=True, fmt='d', cmap='Blues', cbar=False)\n",
    "plt.xlabel('Predicted')\n",
    "plt.ylabel('Actual')\n",
    "plt.title('Matriz de Confusão')\n",
    "plt.show()\n",
    "\n",
    "# Gerando a Curva ROC\n",
    "plt.figure(figsize=(4, 3))\n",
    "fpr, tpr, thresholds = roc_curve(y_test, y_pred)\n",
    "roc_auc = auc(fpr, tpr)\n",
    "plt.plot(fpr, tpr, color='darkorange', lw=2, label='ROC curve (area = %0.2f)' % roc_auc)\n",
    "plt.plot([0, 1], [0, 1], color='navy', lw=2, linestyle='--')\n",
    "plt.xlim([0.0, 1.0])\n",
    "plt.ylim([0.0, 1.05])\n",
    "plt.xlabel('False Positive Rate')\n",
    "plt.ylabel('True Positive Rate')\n",
    "plt.title('Receiver Operating Characteristic')\n",
    "plt.legend(loc='lower right')\n",
    "plt.show()\n",
    "\n",
    "# Exibir AUC\n",
    "print(f\"AUC final do modelo desbalanceado: {roc_auc:.4f}\")"
   ]
  }
 ],
 "metadata": {
  "kernelspec": {
   "display_name": "Python 3",
   "language": "python",
   "name": "python3"
  },
  "language_info": {
   "codemirror_mode": {
    "name": "ipython",
    "version": 3
   },
   "file_extension": ".py",
   "mimetype": "text/x-python",
   "name": "python",
   "nbconvert_exporter": "python",
   "pygments_lexer": "ipython3",
   "version": "3.12.9"
  }
 },
 "nbformat": 4,
 "nbformat_minor": 2
}
