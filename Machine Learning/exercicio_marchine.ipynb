{
 "cells": [
  {
   "cell_type": "code",
   "execution_count": null,
   "metadata": {},
   "outputs": [],
   "source": [
    "import pandas as pd\n",
    "import matplotlib.pyplot as plt\n",
    "import seaborn as sb\n",
    "from sklearn.linear_model import LinearRegression\n",
    "import statsmodels.formula.api as sm\n",
    "import numpy as np \n",
    "from yellowbrick.regressor import ResidualsPlot\n",
    "dados = pd.read_csv('mt_cars.csv')"
   ]
  },
  {
   "cell_type": "code",
   "execution_count": null,
   "metadata": {},
   "outputs": [],
   "source": [
    "dados = dados.drop(['Unnamed: 0'], axis=1)"
   ]
  },
  {
   "cell_type": "code",
   "execution_count": null,
   "metadata": {},
   "outputs": [],
   "source": [
    "print(dados.shape)"
   ]
  },
  {
   "cell_type": "code",
   "execution_count": null,
   "metadata": {},
   "outputs": [],
   "source": [
    "x = dados.iloc[:, 2].values # coluna disp(cilindrada)\n",
    "y = dados.iloc[:, 0].values # coluna mpg(consumo)\n"
   ]
  },
  {
   "cell_type": "code",
   "execution_count": null,
   "metadata": {},
   "outputs": [],
   "source": [
    "correlacao = np.corrcoef(x, y)\n",
    "print(f'Correlação entre x e y: {correlacao}')\n",
    "\n",
    "x = x.reshape(-1, 1)\n",
    "\n",
    "modelo = LinearRegression()\n",
    "modelo.fit(x, y)\n",
    "\n",
    "\n",
    "print(f'Interceptação: {modelo.intercept_}')\n",
    "print(f'Coeficiente{modelo.coef_}')\n",
    "print(f'R^2: {modelo.score(x,y)}')\n",
    "print(f'Previsão: {modelo.predict(x)}')\n",
    "\n"
   ]
  },
  {
   "cell_type": "code",
   "execution_count": null,
   "metadata": {},
   "outputs": [],
   "source": [
    "#Grafico com os pontos reais e as previsões\n",
    "plt.scatter(x, y)\n",
    "plt.plot(x, modelo.predict(x), color='red')\n",
    "plt.show()"
   ]
  },
  {
   "cell_type": "code",
   "execution_count": null,
   "metadata": {},
   "outputs": [],
   "source": [
    "print(f'Previsão de um automovel que tem 200 cilindradas, quantas milhas fará: {modelo.predict([[200]])}')\n",
    "\n",
    "visualizador = ResidualsPlot(modelo)\n",
    "visualizador.fit(x,y)\n",
    "visualizador.poof()"
   ]
  },
  {
   "cell_type": "code",
   "execution_count": null,
   "metadata": {},
   "outputs": [],
   "source": [
    "modelo_ajustado = sm.ols(formula= 'mpg ~ disp', data=dados)\n",
    "modelo_treinado = modelo_ajustado.fit()\n",
    "print(modelo_treinado.summary())\n"
   ]
  }
 ],
 "metadata": {
  "kernelspec": {
   "display_name": "Python 3",
   "language": "python",
   "name": "python3"
  },
  "language_info": {
   "codemirror_mode": {
    "name": "ipython",
    "version": 3
   },
   "file_extension": ".py",
   "mimetype": "text/x-python",
   "name": "python",
   "nbconvert_exporter": "python",
   "pygments_lexer": "ipython3",
   "version": "3.12.9"
  }
 },
 "nbformat": 4,
 "nbformat_minor": 2
}
