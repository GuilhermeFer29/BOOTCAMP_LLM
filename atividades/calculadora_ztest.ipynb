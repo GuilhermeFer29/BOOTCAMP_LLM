{
 "cells": [
  {
   "cell_type": "code",
   "execution_count": 1,
   "metadata": {},
   "outputs": [],
   "source": [
    "import scipy.stats as sp"
   ]
  },
  {
   "cell_type": "code",
   "execution_count": 2,
   "metadata": {},
   "outputs": [],
   "source": [
    "def testez():\n",
    "    import scipy.stats as sp\n",
    "    \n",
    "    mu = float(input(\"Digite o valor da media populacional testada:  \"))\n",
    "    \n",
    "    sinal_do_teste = input(f'''\n",
    "Informe o seinal de H0                 \n",
    "1 - para sinal \"=\" - teste bicaudal\n",
    "2 - para sinal \">\" - teste unicaudal á esquerda\n",
    "3 - para sinal \"<\" - teste unicaudal á direita''')\n",
    "    \n",
    "    alpha = (float(input(\"Informe o nivel de significancia em % :  \")))/100\n",
    "    \n",
    "    n = int(input(\"Informe o tamanho da amostra:  \"))\n",
    "    \n",
    "    x_barra = float(input(\"Informe o valor da media amostral:  \"))\n",
    "    \n",
    "    desvio = float(input(\"Informe o valor do desvio padrao populacional:  \"))\n",
    "    \n",
    "    erro_padrao = desvio / (n ** (1/2))\n",
    "    \n",
    "    z_teste = (x_barra - mu) / erro_padrao\n",
    "    \n",
    "    if sinal_do_teste == \"1\":\n",
    "        z_critico = sp.norm.ppf(alpha/2)\n",
    "        p_valor = 2 * (1 - sp.norm.cdf(abs(z_teste)))\n",
    "        \n",
    "    elif sinal_do_teste == \"2\":\n",
    "        z_critico = sp.norm.ppf(alpha)\n",
    "        p_valor = sp.norm.cdf(z_teste)\n",
    "        \n",
    "    elif sinal_do_teste == \"3\":\n",
    "        z_critico = abs(sp.norm.ppf( alpha))\n",
    "        p_valor = 1 - sp.norm.cdf(z_teste)\n",
    "        \n",
    "    else:\n",
    "        print(\"Sinal de teste invalido\")\n",
    "    \n",
    "    print(f\"O valor do z_teste é: {z_teste}\")\n",
    "    print(f\"O valor do z_critico é: {z_critico}\")\n",
    "    print(f\"O valor do p_valor é: {p_valor}\")\n",
    "        \n",
    "    \n",
    "    if p_valor < alpha:\n",
    "        print(\"Rejeita-se H0\")\n",
    "    else:     \n",
    "        print(\"Nao se rejeita H0\")"
   ]
  },
  {
   "cell_type": "code",
   "execution_count": 4,
   "metadata": {},
   "outputs": [
    {
     "name": "stdout",
     "output_type": "stream",
     "text": [
      "O valor do z_teste é: -2.8284271247461903\n",
      "O valor do z_critico é: 1.6448536269514729\n",
      "O valor do p_valor é: 0.9976611325094764\n",
      "Nao se rejeita H0\n"
     ]
    }
   ],
   "source": [
    "testez()"
   ]
  }
 ],
 "metadata": {
  "kernelspec": {
   "display_name": "venv",
   "language": "python",
   "name": "python3"
  },
  "language_info": {
   "codemirror_mode": {
    "name": "ipython",
    "version": 3
   },
   "file_extension": ".py",
   "mimetype": "text/x-python",
   "name": "python",
   "nbconvert_exporter": "python",
   "pygments_lexer": "ipython3",
   "version": "3.12.3"
  }
 },
 "nbformat": 4,
 "nbformat_minor": 2
}
