{
 "cells": [
  {
   "cell_type": "code",
   "execution_count": 1,
   "metadata": {},
   "outputs": [],
   "source": [
    "import scipy.stats as sp\n",
    "import pandas as pd\n",
    "import numpy as np"
   ]
  },
  {
   "cell_type": "code",
   "execution_count": 8,
   "metadata": {},
   "outputs": [],
   "source": [
    "df = pd.read_csv('../atividades/nota_matematica.csv')"
   ]
  },
  {
   "cell_type": "code",
   "execution_count": 9,
   "metadata": {},
   "outputs": [
    {
     "name": "stdout",
     "output_type": "stream",
     "text": [
      "<class 'pandas.core.frame.DataFrame'>\n",
      "RangeIndex: 49 entries, 0 to 48\n",
      "Data columns (total 2 columns):\n",
      " #   Column         Non-Null Count  Dtype\n",
      "---  ------         --------------  -----\n",
      " 0   notas_turma_a  49 non-null     int64\n",
      " 1   notas_turma_b  49 non-null     int64\n",
      "dtypes: int64(2)\n",
      "memory usage: 916.0 bytes\n"
     ]
    }
   ],
   "source": [
    "df.head()\n",
    "df.info()"
   ]
  },
  {
   "cell_type": "code",
   "execution_count": null,
   "metadata": {},
   "outputs": [
    {
     "name": "stdout",
     "output_type": "stream",
     "text": [
      "A nota média da turma A é: 4.73\n",
      "A nota média da turma B é: 5.63\n",
      "Com 5% de confiança, não podemos dizer que a diferença entrea as médias é sifnificativa.\n"
     ]
    }
   ],
   "source": [
    "\"\"\"\n",
    "Imagine que você deseja veiricar se a diferença entre as notas médias em\n",
    "matemática é estatisticamente significativa para duas diferentes turmas\n",
    "(turma A) e (Turma B), nesse caso temos um Teste t para duas amostras.\n",
    "\"\"\"\n",
    "\n",
    "\n",
    "media_turma_A = np.mean(df['notas_turma_a'])\n",
    "print(f'A nota média da turma A é: {media_turma_A:.2f}')\n",
    "\n",
    "media_turma_B = np.mean(df['notas_turma_b'])\n",
    "print(f'A nota média da turma B é: {media_turma_B:.2f}')\n",
    "\n",
    "p_valor = sp.ttest_ind(df['notas_turma_a'], df['notas_turma_b'])[1]\n",
    "alfa = (float(input('Informe o nivel de significância em %')))/100\n",
    "\n",
    "if p_valor <  alfa:\n",
    "    print(f'Com {alfa*100:.0f}% de confiança, podemos dizer que a diferença entrea as médias é sifnificativa.')\n",
    "else:\n",
    "    print(f'Com { alfa*100:.0f}% de confiança, não podemos dizer que a diferença entrea as médias é sifnificativa.')"
   ]
  },
  {
   "cell_type": "code",
   "execution_count": 16,
   "metadata": {},
   "outputs": [
    {
     "name": "stdout",
     "output_type": "stream",
     "text": [
      "<class 'pandas.core.frame.DataFrame'>\n",
      "RangeIndex: 49 entries, 0 to 48\n",
      "Data columns (total 2 columns):\n",
      " #   Column        Non-Null Count  Dtype\n",
      "---  ------        --------------  -----\n",
      " 0   antes_apoio   49 non-null     int64\n",
      " 1   depois_apoio  49 non-null     int64\n",
      "dtypes: int64(2)\n",
      "memory usage: 916.0 bytes\n"
     ]
    }
   ],
   "source": [
    "'''\n",
    "Imagine agora que os alunos de uma determinada turma possuem uma nota em\n",
    "matemática antes de um apoio escolar e outra nota da mesma disciplina depois\n",
    "de um apoio escolar, o objetivo aqui é verificar se a diferença nas médias antes\n",
    " e depois do apoio é ou não estatisticamente significativa, para isso faremos um\n",
    " teste t com amostras relacionadas\n",
    "'''\n",
    "\n",
    "df2 = pd.read_csv('../atividades/nota_matematica1.csv')\n",
    "df2.info()"
   ]
  },
  {
   "cell_type": "code",
   "execution_count": 17,
   "metadata": {},
   "outputs": [
    {
     "name": "stdout",
     "output_type": "stream",
     "text": [
      "A nota média antes do apoio é: 4.73\n",
      "A nota média da turma B é: 6.49\n",
      "P-Valor é 0.003564\n",
      "Com 5% de significância podemos dizer que a diferença entre as médias é significativa\n"
     ]
    }
   ],
   "source": [
    "media_antes = np.mean(df2['antes_apoio'])\n",
    "print(f'A nota média antes do apoio é: {media_antes:.2f}')\n",
    "media_depois = np.mean(df2['depois_apoio'])\n",
    "print(f'A nota média da turma B é: {media_depois:.2f}')\n",
    "p_valor = sp.ttest_rel(df2['antes_apoio'],df2['depois_apoio'])[1]\n",
    "alfa = (float(input('Informe o nível de significância em %: ')))/100\n",
    "print(f'P-Valor é {p_valor:.6f}')\n",
    "if p_valor < alfa:\n",
    "  print(f'Com {alfa*100:.0f}% de significância podemos dizer que a diferença entre as médias é significativa')\n",
    "else:\n",
    "  print(f'Com {alfa*100:.0f}% de significância podemos dizer que a diferença entre as médias não é significativa')"
   ]
  }
 ],
 "metadata": {
  "kernelspec": {
   "display_name": "venv",
   "language": "python",
   "name": "python3"
  },
  "language_info": {
   "codemirror_mode": {
    "name": "ipython",
    "version": 3
   },
   "file_extension": ".py",
   "mimetype": "text/x-python",
   "name": "python",
   "nbconvert_exporter": "python",
   "pygments_lexer": "ipython3",
   "version": "3.12.3"
  }
 },
 "nbformat": 4,
 "nbformat_minor": 2
}
