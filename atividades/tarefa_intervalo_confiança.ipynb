{
 "cells": [
  {
   "cell_type": "markdown",
   "metadata": {},
   "source": [
    "1.  \tA duração das lâmpadas de certo fabricante têm distribuição normal com desvio padrão de 150 horas. A duração média das lâmpadas de uma amostra de tamanho 120, retirada da produção, é 2000 horas. Estime por intervalo a duração média das lâmpadas produzidas pelo fabricante. Considere níveis de confiança de 95% e 99%."
   ]
  },
  {
   "cell_type": "code",
   "execution_count": 12,
   "metadata": {},
   "outputs": [],
   "source": [
    "import scipy.stats as sp\n",
    "import scipy "
   ]
  },
  {
   "cell_type": "markdown",
   "metadata": {},
   "source": [
    "### Intervalo de Confiança 95%"
   ]
  },
  {
   "cell_type": "code",
   "execution_count": 27,
   "metadata": {},
   "outputs": [
    {
     "data": {
      "text/plain": [
       "(np.float64(1973.1620878442427), np.float64(2026.8379121557573))"
      ]
     },
     "execution_count": 27,
     "metadata": {},
     "output_type": "execute_result"
    }
   ],
   "source": [
    "sp.norm.interval(0.95,2000,((150)/120**(1/2)))\n"
   ]
  },
  {
   "cell_type": "code",
   "execution_count": 24,
   "metadata": {},
   "outputs": [
    {
     "data": {
      "text/plain": [
       "(np.float64(1964.729004654086), np.float64(2035.270995345914))"
      ]
     },
     "execution_count": 24,
     "metadata": {},
     "output_type": "execute_result"
    }
   ],
   "source": [
    "sp.norm.interval(0.99,2000,((150)/120**(1/2)))"
   ]
  },
  {
   "cell_type": "code",
   "execution_count": 36,
   "metadata": {},
   "outputs": [
    {
     "name": "stdout",
     "output_type": "stream",
     "text": [
      "Média: 13.13\n",
      "Desvio Padrão: 1.43\n",
      "Erro Padrão: 0.26\n",
      "Intervalo de confiança de 95%: (np.float64(12.620914288755642), np.float64(13.645752377911023))\n",
      "Intervalo de confiança de 99%: (np.float64(12.459900555419566), np.float64(13.8067661112471))\n"
     ]
    }
   ],
   "source": [
    "# Dados da amostra\n",
    "dados = [10, 11, 11, 11, 12, 12, 12, 12, 13, 13, 13, 13, 13, 13, 13, \n",
    "13, 13, 13, 13, 13, 14, 14, 14, 14, 14, 15, 15, 15, 16, 16]\n",
    "import statistics as st\n",
    "\n",
    "media = st.mean(dados)\n",
    "desvio_padrao = st.stdev(dados)\n",
    "erro_padrao = desvio_padrao / (len(dados) ** (1/2))\n",
    "\n",
    "print(f\"Média: {media:.2f}\")\n",
    "\n",
    "print(f\"Desvio Padrão: {desvio_padrao:.2f}\")\n",
    "\n",
    "print(f\"Erro Padrão: {erro_padrao:.2f}\")\n",
    "\n",
    "r_1 = sp.norm.interval(0.95,media,erro_padrao)\n",
    "\n",
    "r_2 = sp.norm.interval(0.99,media,erro_padrao)\n",
    "\n",
    "print(f\"Intervalo de confiança de 95%: {r_1}\")\n",
    "print(f\"Intervalo de confiança de 99%: {r_2}\")"
   ]
  }
 ],
 "metadata": {
  "kernelspec": {
   "display_name": "venv",
   "language": "python",
   "name": "python3"
  },
  "language_info": {
   "codemirror_mode": {
    "name": "ipython",
    "version": 3
   },
   "file_extension": ".py",
   "mimetype": "text/x-python",
   "name": "python",
   "nbconvert_exporter": "python",
   "pygments_lexer": "ipython3",
   "version": "3.12.3"
  }
 },
 "nbformat": 4,
 "nbformat_minor": 2
}
