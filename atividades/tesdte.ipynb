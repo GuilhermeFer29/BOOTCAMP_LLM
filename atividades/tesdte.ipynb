{
 "cells": [
  {
   "cell_type": "code",
   "execution_count": null,
   "metadata": {},
   "outputs": [
    {
     "data": {
      "text/plain": [
       "[6, 7, 8, 9, 11, 12, 13, 14]"
      ]
     },
     "execution_count": 11,
     "metadata": {},
     "output_type": "execute_result"
    }
   ],
   "source": [
    "'''\n",
    "Imagine agora que os alunos de uma determinada turma possuem uma nota em\n",
    "matemática antes de um apoio escolar e outra nota da mesma disciplina depois\n",
    "de um apoio escolar, o objetivo aqui é verificar se a diferença nas médias antes\n",
    " e depois do apoio é ou não estatisticamente significativa, para isso faremos um\n",
    " teste t com amostras relacionadas\n",
    "'''\n",
    "\n"
   ]
  }
 ],
 "metadata": {
  "kernelspec": {
   "display_name": "venv",
   "language": "python",
   "name": "python3"
  },
  "language_info": {
   "codemirror_mode": {
    "name": "ipython",
    "version": 3
   },
   "file_extension": ".py",
   "mimetype": "text/x-python",
   "name": "python",
   "nbconvert_exporter": "python",
   "pygments_lexer": "ipython3",
   "version": "3.12.3"
  }
 },
 "nbformat": 4,
 "nbformat_minor": 2
}
