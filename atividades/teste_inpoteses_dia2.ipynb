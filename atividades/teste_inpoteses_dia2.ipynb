{
 "cells": [
  {
   "cell_type": "code",
   "execution_count": 2,
   "metadata": {},
   "outputs": [],
   "source": [
    "import scipy.stats as sp"
   ]
  },
  {
   "cell_type": "code",
   "execution_count": null,
   "metadata": {},
   "outputs": [
    {
     "data": {
      "text/plain": [
       "np.float64(-1.9599639845400545)"
      ]
     },
     "execution_count": 3,
     "metadata": {},
     "output_type": "execute_result"
    }
   ],
   "source": [
    "sp.norm.ppf(0.025) # Encontrando o Numerro de desvios ZCRITICO\n"
   ]
  },
  {
   "cell_type": "code",
   "execution_count": 9,
   "metadata": {},
   "outputs": [
    {
     "name": "stdout",
     "output_type": "stream",
     "text": [
      "Rejeitamos H0\n",
      "Rejeitamos H0\n"
     ]
    }
   ],
   "source": [
    "'''\n",
    "afirmação central: média da população (Mu) é igual a 3\n",
    "\n",
    "dados da anostra para testar a hipótese: n = 36, média amostral (x barra) = 2,92\n",
    "desvio padrão amostral (s) = 0.18\n",
    "\n",
    "Nível de significância do teste: 0.05\n",
    "\n",
    "Primeiro passo: identificar H0 e Ha\n",
    "H0: Mu == 3\n",
    "Ha: Mu != 3\n",
    "pelo fato de termo Ho como igual e Ha como diferente, estados\n",
    "diante de um teste bicaudal ou bilateral, pois rejeitamos os dois extremos\n",
    "(caudas) superior e inferior\n",
    "\n",
    "segundo passo: definir os limites das caudas (-zcritico e +zcritico)\n",
    "para isso devemos dividir o nível de sifnificância por 2, (teste bicaudal)\n",
    "e encontrarmos o número de desvios para essa porcentagem\n",
    "sp.norm.ppf(nível de significâancia / 2)\n",
    "\n",
    "terceiro passo: calcular a estatística do teste (ztest)\n",
    "ztest = (média amostral (x barra) - média testada (Mu)) / erro padrão\n",
    "erro padrão = s / (n) ** (1/2)\n",
    "\n",
    "Último passo: tomar a decisão de aceitar ou não H0, para isso, se ztest < -zcrítco\n",
    "ou ztest maior que zcritico rejeitamos Ho, caso contrário não rejitamos HO\n",
    "\n",
    "'''\n",
    "zcritico_negativo = sp.norm.ppf(0.025)\n",
    "zcritico_positivo = abs(sp.norm.ppf(0.025))\n",
    "ztest = (2.92 -  3)/(0.18/(36**(1/2)))\n",
    "if ztest < zcritico_negativo or ztest > zcritico_positivo:\n",
    "    print('Rejeitamos H0')\n",
    "else:\n",
    "    print('Não Rejeitamos H0')\n",
    "\n",
    "p_valor = (1 - sp.norm.cdf(abs(ztest))) * 2 \n",
    "\n",
    "if p_valor < 0.05:\n",
    "    print(\"Rejeitamos H0\")\n",
    "else:\n",
    "    print(\"Não rejeitamos H0\")"
   ]
  },
  {
   "cell_type": "code",
   "execution_count": 11,
   "metadata": {},
   "outputs": [
    {
     "name": "stdout",
     "output_type": "stream",
     "text": [
      "Rejeitamos H0\n",
      "P-Valor é 0.00000029\n",
      "Rejeitamos H0\n"
     ]
    }
   ],
   "source": [
    "'''\n",
    "afirmação central: média da população (Mu) menor que 10\n",
    "\n",
    "dados da anostra para testar a hipótese: n = 100, média amostral (x barra) = 11\n",
    "desvio padrão amostral (s) = 2\n",
    "\n",
    "Nível de significância do teste: 0.05\n",
    "\n",
    "Primeiro passo: identificar H0 e Ha\n",
    "H0: Mu <= 10\n",
    "Ha: Mu > 10\n",
    "pelo fato de termos Ho como menor e Ha como maior, estamos\n",
    "diante de um teste nicaudal à direita, pois rejeitamos o extremo\n",
    "(cauda) superior\n",
    "\n",
    "segundo passo: definir os limites das] caudas (+zcritico)\n",
    "para isso devemos pegar o nível de significância\n",
    "e encontrarmos o número de desvios para essa porcentagem\n",
    "sp.norm.ppf(0.05)\n",
    "\n",
    "terceiro passo: calcular a estatística do teste (ztest)\n",
    "ztest = (média amostral (x barra) - média testada (Mu)) / erro padrão\n",
    "erro padrão = s / (n) ** (1/2)\n",
    "\n",
    "Último passo: tomar a decisão de aceitar ou não H0, para isso, se\n",
    "ztest maior que zcritico rejeitamos Ho, caso contrário não rejitamos HO\n",
    "\n",
    "'''\n",
    "zcritico_positivo = abs(sp.norm.ppf(0.05))\n",
    "ztest = (11 -  10)/(2/(100**(1/2)))\n",
    "if ztest < zcritico_negativo or ztest > zcritico_positivo:\n",
    "    print('Rejeitamos H0')\n",
    "else:\n",
    "    print('Não Rejeitamos H0')\n",
    "p_valor = 1  - sp.norm.cdf(abs(ztest))\n",
    "\n",
    "print(f'P-Valor é {p_valor:.8f}')\n",
    "\n",
    "if p_valor < 0.05:\n",
    "    print('Rejeitamos H0')\n",
    "else:\n",
    "    print('Não Rejeitamos H0')\n",
    "\n"
   ]
  },
  {
   "cell_type": "code",
   "execution_count": 15,
   "metadata": {},
   "outputs": [
    {
     "name": "stdout",
     "output_type": "stream",
     "text": [
      "Rejeitamos H0\n",
      "P-Valor é 0.00000441\n",
      "Rejeitamos H0\n"
     ]
    }
   ],
   "source": [
    "'''\n",
    "afirmação central: média da população (Mu) maior que 3\n",
    "\n",
    "dados da anostra para testar a hipótese: n = 100, média amostral (x barra) = 2.92\n",
    "desvio padrão amostral (s) = 0.18\n",
    "\n",
    "Nível de significância do teste: 0.05\n",
    "\n",
    "Primeiro passo: identificar H0 e Ha\n",
    "H0: Mu >= 3\n",
    "Ha: Mu < 13\n",
    "\n",
    "\n",
    "pelo fato de termos Ho como maior  e Ha como menor , estamos\n",
    "diante de um teste nicaudal à direita, pois rejeitamos o extremo\n",
    "(cauda) superior\n",
    "\n",
    "segundo passo: definir os limites das] caudas (+zcritico)\n",
    "para isso devemos pegar o nível de significância\n",
    "e encontrarmos o número de desvios para essa porcentagem\n",
    "sp.norm.ppf(0.05)\n",
    "\n",
    "terceiro passo: calcular a estatística do teste (ztest)\n",
    "ztest = (média amostral (x barra) - média testada (Mu)) / erro padrão\n",
    "erro padrão = s / (n) ** (1/2)\n",
    "\n",
    "Último passo: tomar a decisão de aceitar ou não H0, para isso, se\n",
    "ztest maior que zcritico rejeitamos Ho, caso contrário não rejitamos HO\n",
    "\n",
    "'''\n",
    "zcritico_positivo = sp.norm.ppf(0.05)\n",
    "ztest = (2.92 -  3)/(0.18/(100**(1/2)))\n",
    "if ztest < zcritico_negativo or ztest > zcritico_positivo:\n",
    "    print('Rejeitamos H0')\n",
    "else:\n",
    "    print('Não Rejeitamos H0')\n",
    "p_valor = sp.norm.cdf(ztest)\n",
    "\n",
    "print(f'P-Valor é {p_valor:.8f}')\n",
    "\n",
    "if p_valor < 0.05:\n",
    "    print('Rejeitamos H0')\n",
    "else:\n",
    "    print('Não Rejeitamos H0')"
   ]
  },
  {
   "cell_type": "code",
   "execution_count": null,
   "metadata": {},
   "outputs": [],
   "source": []
  }
 ],
 "metadata": {
  "kernelspec": {
   "display_name": "venv",
   "language": "python",
   "name": "python3"
  },
  "language_info": {
   "codemirror_mode": {
    "name": "ipython",
    "version": 3
   },
   "file_extension": ".py",
   "mimetype": "text/x-python",
   "name": "python",
   "nbconvert_exporter": "python",
   "pygments_lexer": "ipython3",
   "version": "3.12.3"
  }
 },
 "nbformat": 4,
 "nbformat_minor": 2
}
