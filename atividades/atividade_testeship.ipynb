{
 "cells": [
  {
   "cell_type": "code",
   "execution_count": 32,
   "metadata": {},
   "outputs": [],
   "source": [
    "import scipy.stats as sp\n"
   ]
  },
  {
   "cell_type": "markdown",
   "metadata": {},
   "source": [
    " ##### 1.\tUma pesquisa de mercado revelou que 240 dentre 600 pessoas de uma localidade, escolhidas aleatoriamente, comprariam certo produto se o mesmo for lançado no mercado da localidade. Construa intervalos de confiança de 95% e 99% para a proporção de pessoas da localidade que comprariam o referido produto.\n"
   ]
  },
  {
   "cell_type": "code",
   "execution_count": null,
   "metadata": {},
   "outputs": [
    {
     "name": "stdout",
     "output_type": "stream",
     "text": [
      "Intervalo de confiança de 95%: (np.float64(0.36080072030919896), np.float64(0.4391992796908011))\n",
      "Intervalo de confiança de 99%: (np.float64(0.348483413929022), np.float64(0.45151658607097805))\n"
     ]
    }
   ],
   "source": [
    "amostra = 240 / 600\n",
    "\n",
    "n = 600\n",
    "\n",
    "s = (amostra * (1 - amostra) / n)**(1/2)\n",
    "\n",
    "p_95 = sp.norm.interval(0.95, amostra, s)\n",
    "\n",
    "p_99 = sp.norm.interval(0.99, amostra, s)\n",
    "\n",
    "print(f'Intervalo de confiança de 95%: {p_95}')\n",
    "\n",
    "print(f'Intervalo de confiança de 99%: {p_99}')"
   ]
  },
  {
   "cell_type": "markdown",
   "metadata": {},
   "source": [
    "##### 2.\tO fabricante de certa marca de suco informa que as embalagens de seu produto têm em média 500 ml, com desvio padrão igual a 10 ml. Tendo sido encontradas no mercado algumas embalagens com menos de 500 ml, suspeita-se que a informação do fabricante seja falsa. Para verificar se isto ocorre, um fiscal analisa uma amostra de 200 embalagens escolhidas aleatoriamente no mercado e constata que as mesmas contêm em média 498 ml. Considerando-se um nível de significância de 5%, pode-se afirmar que o fabricante está correto? Calcule o valor da prova para esta amostra.\n"
   ]
  },
  {
   "cell_type": "code",
   "execution_count": 23,
   "metadata": {},
   "outputs": [
    {
     "name": "stdout",
     "output_type": "stream",
     "text": [
      "Z-test: -2.8284271247461903\n",
      "P-valor: 0.0023388674905236288\n",
      "Rejeita H0 O fabricante está enganando\n"
     ]
    }
   ],
   "source": [
    "\"\"\"\n",
    "H0 == 5\n",
    "H1 < 5 \n",
    "\n",
    "498 - 500 / 10 / 200**(1/2)\n",
    "R: -2 / 0.7071 = - 2.8284\n",
    "\n",
    "aqui da na variação a esquerda por ser negativo o meu Z-teste\n",
    "\n",
    "\"\"\"\n",
    "\n",
    "z_test = (498 - 500) / (10 / (200)**(1/2))\n",
    "\n",
    "p_valor_esquerda = sp.norm.cdf(z_test)\n",
    "\n",
    "print(f'Z-test: {z_test}')\n",
    "print(f'P-valor: {p_valor_esquerda}')\n",
    "\n",
    "if p_valor_esquerda < 0.05:\n",
    "    print(\"Rejeita H0 O fabricante está enganando\")\n",
    "else:\n",
    "    print(\"Não rejeita H0, fabricante não está enganando\")\n",
    "\n"
   ]
  },
  {
   "cell_type": "markdown",
   "metadata": {},
   "source": [
    "##### 3.  \tA duração das lâmpadas produzidas por certo fabricante tem distribuição normal com média igual a 1200 horas e desvio padrão igual a 300 horas. O fabricante introduz um novo processo na produção das lâmpadas. Para verificar se o novo processo produz lâmpadas de maior duração, o fabricante observa 100 lâmpadas produzidas pelo novo processo e constata que as mesmas duram em média 1265 horas. Admitindo-se um nível de significância de 5%, pode-se concluir que o novo processo produz lâmpadas com maior duração?\n"
   ]
  },
  {
   "cell_type": "code",
   "execution_count": 25,
   "metadata": {},
   "outputs": [
    {
     "name": "stdout",
     "output_type": "stream",
     "text": [
      "Valor Z: 2.1666666666666665\n",
      "P-valor Direita: 0.015130140010235826\n",
      "Rejeita H0, o Processo aumenta a produção\n"
     ]
    }
   ],
   "source": [
    "\"\"\"\n",
    "H0 = 1200\n",
    "H1 > 1200 \n",
    "\n",
    "1265 - 1200 / 300 / 100 **(1/2)\n",
    "\n",
    "R: 65 / 30 = 2.1667\n",
    "\n",
    "aqui da na variação a direita por ser positivo o meu Z-teste\n",
    "\n",
    "\"\"\"\n",
    "\n",
    "z_teste = (1265 - 1200) / (300 / (100 **(1/2)))\n",
    "\n",
    "p_valor_direita = 1 - sp.norm.cdf(z_teste)\n",
    "\n",
    "print(f'Valor Z: {z_teste}')\n",
    "print(f'P-valor Direita: {p_valor_direita}')\n",
    "\n",
    "if p_valor_direita < 0.05:\n",
    "    print('Rejeita H0, o Processo aumenta a produção')\n",
    "else:\n",
    "    print('Não rejeita H0, o Processo não aumenta a produção')\n"
   ]
  },
  {
   "cell_type": "markdown",
   "metadata": {},
   "source": [
    "##### 4.\tO custo de produção de certo artigo numa localidade tem distribuição normal com média igual a R$42,00. Desenvolve-se uma política de redução de custos na empresa para melhorar a competitividade do referido produto no mercado. Observando-se os custos de 100 unidades deste produto, obteve-se uma média de 34,9 e um desvio padrão de 3,96. Admitindo-se um nível de significância de 5%, pode-se afirmar que o custo do produto considerado diminuiu?\n"
   ]
  },
  {
   "cell_type": "code",
   "execution_count": 29,
   "metadata": {},
   "outputs": [
    {
     "name": "stdout",
     "output_type": "stream",
     "text": [
      "Valor do z-teste: -17.92929292929293\n",
      "Valor do p-valor: 3.4829960477963174e-72\n",
      "Rejeita H0, O custo diminuiu significativamente\n"
     ]
    }
   ],
   "source": [
    "\"\"\"\n",
    "H0 = 42\n",
    "H1 != 42\n",
    "\n",
    "34.9 - 42 / 3.96 / 100 **(1/2)\n",
    "\n",
    "-7.1 / 0.396 = -17.93\n",
    "\n",
    "aqui da na variação a esquerda por ser negativo o meu Z-teste\n",
    "\"\"\"\n",
    "\n",
    "z_test = (34.9 - 42) / (3.96 / (100 ** (1/2)))\n",
    "\n",
    "p_valor_es = sp.norm.cdf(z_test)\n",
    "\n",
    "print(f'Valor do z-teste: {z_test}')\n",
    "print(f'Valor do p-valor: {p_valor_es}')\n",
    "\n",
    "if p_valor_es < 0.05:\n",
    "    print('Rejeita H0, O custo diminuiu significativamente')\n",
    "else:\n",
    "    print('Aceita H0, O custo não diminuiu significativamente')"
   ]
  },
  {
   "cell_type": "markdown",
   "metadata": {},
   "source": [
    "##### 5.  \tO controle de qualidade das peças produzidas por certa fábrica exige que o diâmetro médio das mesmas seja 57 mm. Para verificar se o processo de produção está sob controle, observam-se os diâmetros de 100 peças, constatando-se uma média de 56,91mm e um desvio padrão de 0,24mm. Admitindo-se um nível de significância de 5%, pode-se concluir que o processo de produção está sob controle?\n"
   ]
  },
  {
   "cell_type": "code",
   "execution_count": null,
   "metadata": {},
   "outputs": [
    {
     "name": "stdout",
     "output_type": "stream",
     "text": [
      "t = -3.7500, p-valor = 0.0003\n",
      "Rejeitar H0: Processo fora de controle.\n"
     ]
    }
   ],
   "source": [
    "\"\"\"\n",
    "h0 = 57 mm\n",
    "h1 != 57 mm\n",
    "\n",
    "\"\"\"\n",
    "\n",
    "\n",
    "# Estatística de teste e p-valor\n",
    "t_stat = (56.91 - 57) / (0.24 / (100 ** 0.5))\n",
    "\n",
    "p_value = sp.t.sf(abs(t_stat), df=n-1) * 2 \n",
    "\n",
    "# Resultados\n",
    "print(f't = {t_stat:.4f}, p-valor = {p_value:.4f}')\n",
    "\n",
    "if p_value < 0.05:\n",
    "    print(\"Rejeitar H0: Processo fora de controle.\")\n",
    "else:\n",
    "    print(\"Não rejeitar H0: Processo sob controle.\")"
   ]
  },
  {
   "cell_type": "markdown",
   "metadata": {},
   "source": [
    "##### 6.      Numa localidade, 32% dos consumidores consomem determinado produto. Foi lançado no mercado da localidade um produto concorrente. Uma pesquisa realizada com 500 consumidores escolhidos ao acaso revelou que 145 dentre estes consomem o antigo produto. Pode-se concluir, num nível de significância de 2%, que a preferência pelo produto antigo diminuiu com a entrada do concorrente no mercado? Calcule o valor da prova para esta amostra.\n"
   ]
  },
  {
   "cell_type": "code",
   "execution_count": 38,
   "metadata": {},
   "outputs": [
    {
     "name": "stdout",
     "output_type": "stream",
     "text": [
      "Z = -1.4381, p-valor = 0.0752\n",
      "Não rejeitar H0: Sem evidências de diminuição.\n"
     ]
    }
   ],
   "source": [
    "\"\"\"\n",
    "h0 = 0.32\n",
    "h1 != 0.32\n",
    "\n",
    "\"\"\"\n",
    "\n",
    "p_hat = 145 / 500\n",
    "\n",
    "\n",
    "se = (0.32 * (1 - 0.32) / 500) ** 0.5\n",
    "z = (p_hat - 0.32) / se\n",
    "p_value = sp.norm.cdf(z) \n",
    "\n",
    "# Resultados\n",
    "print(f'Z = {z:.4f}, p-valor = {p_value:.4f}')\n",
    "\n",
    "\n",
    "if p_value < 0.02:\n",
    "    print(\"Rejeitar H0: Preferência diminuiu.\")\n",
    "else:\n",
    "    print(\"Não rejeitar H0: Sem evidências de diminuição.\")"
   ]
  },
  {
   "cell_type": "markdown",
   "metadata": {},
   "source": [
    "##### 7. Sabe-se que 6% das unidades de certo produto são substituídas gratuitamente por apresentar defeitos de fabricação. Para reduzir este percentual, o fabricante investiu na melhoria da qualidade do produto. Consta-se que 12 dentre 400 unidades vendidas tiveram que ser substituídas gratuitamente por apresentar defeitos de fabricação. Pode-se concluir, num nível de significância de 3%, que a qualidade do produto melhorou?\n"
   ]
  },
  {
   "cell_type": "code",
   "execution_count": 40,
   "metadata": {},
   "outputs": [
    {
     "name": "stdout",
     "output_type": "stream",
     "text": [
      "Z = -2.5265, p-valor = 0.0058\n",
      "Rejeitar H0: Qualidade melhorou.\n"
     ]
    }
   ],
   "source": [
    "\"\"\"\n",
    "h0 = 0.06\n",
    "h1 != 0.06\n",
    "\n",
    "\"\"\"\n",
    "\n",
    "\n",
    "p_hat = 12 / 400\n",
    "\n",
    "\n",
    "se = (0.06 * (1 - 0.06) / 400) ** 0.5\n",
    "z = (p_hat - 0.06) / se\n",
    "\n",
    "p_value = sp.norm.cdf(z)  # Teste unilateral à esquerda\n",
    "\n",
    "print(f'Z = {z:.4f}, p-valor = {p_value:.4f}')\n",
    "\n",
    "if p_value < 0.03:\n",
    "    print(\"Rejeitar H0: Qualidade melhorou.\")\n",
    "else:\n",
    "    print(\"Não rejeitar H0: Sem evidências de melhoria.\")"
   ]
  }
 ],
 "metadata": {
  "kernelspec": {
   "display_name": "venv",
   "language": "python",
   "name": "python3"
  },
  "language_info": {
   "codemirror_mode": {
    "name": "ipython",
    "version": 3
   },
   "file_extension": ".py",
   "mimetype": "text/x-python",
   "name": "python",
   "nbconvert_exporter": "python",
   "pygments_lexer": "ipython3",
   "version": "3.12.3"
  }
 },
 "nbformat": 4,
 "nbformat_minor": 2
}
