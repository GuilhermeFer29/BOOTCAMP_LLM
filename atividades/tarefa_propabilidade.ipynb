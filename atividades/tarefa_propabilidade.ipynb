{
 "cells": [
  {
   "cell_type": "code",
   "execution_count": 2,
   "metadata": {},
   "outputs": [],
   "source": [
    "import scipy.stats as sp"
   ]
  },
  {
   "cell_type": "code",
   "execution_count": 22,
   "metadata": {},
   "outputs": [
    {
     "name": "stdout",
     "output_type": "stream",
     "text": [
      "A probalidade de um leitor ler o jornal por 60 minutos é de 24.59%\n"
     ]
    }
   ],
   "source": [
    "a_1 = 1 - sp.norm.cdf(60 , 49 , 16)\n",
    "print(f'A probalidade de um leitor ler o jornal por 60 minutos é de {a_1*100:.2f}%')"
   ]
  },
  {
   "cell_type": "code",
   "execution_count": 3,
   "metadata": {},
   "outputs": [
    {
     "name": "stdout",
     "output_type": "stream",
     "text": [
      "A probalidade de um leitor ler nao mais que 30 minutos por dia é de 11.75%\n"
     ]
    }
   ],
   "source": [
    "b_1 = sp.norm.cdf(30, 49, 16)\n",
    "\n",
    "print(f'A probalidade de um leitor ler nao mais que 30 minutos por dia é de {b_1*100:.2f}%')"
   ]
  },
  {
   "cell_type": "code",
   "execution_count": 5,
   "metadata": {},
   "outputs": [
    {
     "name": "stdout",
     "output_type": "stream",
     "text": [
      "A propabilidade de se casar pela primeira vez com 23 anos é de 22.66%\n"
     ]
    }
   ],
   "source": [
    "a_2 =sp.norm.cdf(23, 26, 4)\n",
    "\n",
    "print(f'A propabilidade de se casar pela primeira vez com 23 anos é de {a_2*100:.2f}%')"
   ]
  },
  {
   "cell_type": "code",
   "execution_count": 7,
   "metadata": {},
   "outputs": [
    {
     "name": "stdout",
     "output_type": "stream",
     "text": [
      "A probabilidade de se casar a primeira vez com 20 anos ou menos é de 70.66%\n"
     ]
    }
   ],
   "source": [
    "b_2 = sp.norm.cdf(29, 26, 4) - sp.norm.cdf(20, 26, 4)\n",
    "\n",
    "print(f'A probabilidade de se casar a primeira vez com 20 anos ou menos é de {b_2*100:.2f}%')"
   ]
  },
  {
   "cell_type": "code",
   "execution_count": 23,
   "metadata": {},
   "outputs": [
    {
     "name": "stdout",
     "output_type": "stream",
     "text": [
      "A probabilidade de um item defeituoso é 31.73 e o número esperado de defeitos é 317\n",
      "A probabilidade de um item defeituoso é 0.27 e o número esperado de defeitos é 3\n"
     ]
    }
   ],
   "source": [
    "a3_1 = 1 - (sp.norm.cdf(10.15, 10, 0.15) - sp.norm.cdf(9.85, 10, 0.15))\n",
    "print(f'A probabilidade de um item defeituoso é {a3_1*100:.2f} e o número esperado de defeitos é {a3_1*1000:.0f}')\n",
    "\n",
    "b3_1 = 1 - (sp.norm.cdf(10.15, 10, 0.05) - sp.norm.cdf(9.85, 10, 0.05))\n",
    "print(f'A probabilidade de um item defeituoso é {b3_1*100:.2f} e o número esperado de defeitos é {b3_1*1000:.0f}')\n"
   ]
  },
  {
   "cell_type": "code",
   "execution_count": 24,
   "metadata": {},
   "outputs": [
    {
     "name": "stdout",
     "output_type": "stream",
     "text": [
      "A probabilidade de desempregado entre 80000 e 150000 é de 72.17% \n"
     ]
    }
   ],
   "source": [
    "a_4_1 = sp.norm.cdf(80000, 126681, 30000)\n",
    "a_4_2 = sp.norm.cdf(150000, 126681, 30000) \n",
    "a_4_3 = a_4_2 - a_4_1\n",
    "print(f'A probabilidade de desempregado entre 80000 e 150000 é de {a_4_3*100:.2f}% ')"
   ]
  },
  {
   "cell_type": "code",
   "execution_count": 11,
   "metadata": {},
   "outputs": [
    {
     "name": "stdout",
     "output_type": "stream",
     "text": [
      "A probabilidade de desempregado com menos de 50000 é de 0.53%\n"
     ]
    }
   ],
   "source": [
    "b_4 = sp.norm.cdf(50000, 126681, 30000)\n",
    "print(f'A probabilidade de desempregado com menos de 50000 é de {b_4*100:.2f}%')"
   ]
  },
  {
   "cell_type": "code",
   "execution_count": null,
   "metadata": {},
   "outputs": [
    {
     "name": "stdout",
     "output_type": "stream",
     "text": [
      "A probalidade de um pneu durar menos de 45000 km é de 2.28\n"
     ]
    }
   ],
   "source": [
    "a_5 = sp.norm.cdf(45000, 50000, 2500)\n",
    "print(f'A probalidade de um pneu durar menos de 45000 km é de {a_5*100:.2f}%')"
   ]
  },
  {
   "cell_type": "code",
   "execution_count": 13,
   "metadata": {},
   "outputs": [
    {
     "name": "stdout",
     "output_type": "stream",
     "text": [
      "A probabilidade de um pneu durar mais de 57.000 km é de 0.26%\n"
     ]
    }
   ],
   "source": [
    "b_5 = 1 - sp.norm.cdf(57000, 50000, 2500)\n",
    "\n",
    "print(f'A probabilidade de um pneu durar mais de 57.000 km é de {b_5*100:.2f}%')"
   ]
  },
  {
   "cell_type": "code",
   "execution_count": null,
   "metadata": {},
   "outputs": [
    {
     "name": "stdout",
     "output_type": "stream",
     "text": [
      "A probabilidade de ser devolvido a fabrica é de 0.07%\n"
     ]
    }
   ],
   "source": [
    "c_5 = sp.norm.cdf(42000, 50000, 2500)\n",
    "\n",
    "print(f'A probabilidade de ser devolvido a fabrica é de {c_5*100:.2f}%')\n"
   ]
  }
 ],
 "metadata": {
  "kernelspec": {
   "display_name": "venv",
   "language": "python",
   "name": "python3"
  },
  "language_info": {
   "codemirror_mode": {
    "name": "ipython",
    "version": 3
   },
   "file_extension": ".py",
   "mimetype": "text/x-python",
   "name": "python",
   "nbconvert_exporter": "python",
   "pygments_lexer": "ipython3",
   "version": "3.12.3"
  }
 },
 "nbformat": 4,
 "nbformat_minor": 2
}
