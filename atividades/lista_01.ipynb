{
 "cells": [
  {
   "cell_type": "code",
   "execution_count": null,
   "metadata": {},
   "outputs": [
    {
     "name": "stdout",
     "output_type": "stream",
     "text": [
      "Informe um número válido\n",
      "Informe um número válido\n",
      "O número 2.0 é maior que o número 0.0\n"
     ]
    }
   ],
   "source": [
    "\n",
    "while True:\n",
    "    try:\n",
    "        n1 = float(input('Digite um número: '))\n",
    "        break\n",
    "    except:\n",
    "        print('Informe um número válido')\n",
    "while True:\n",
    "    try:\n",
    "        n2 = float(input('Digite outro número: '))\n",
    "        break\n",
    "    except:\n",
    "        print('Informe um número válido')\n",
    "\n",
    "if n1 > n2:\n",
    "    print(f'O número {n1} é maior que o número {n2}')\n",
    "elif n1 == n2:\n",
    "    print(f'O número {n1} é igual ao número {n2}')\n",
    "else:\n",
    "    print(f'O número {n2} é maior que o número {n1}')"
   ]
  },
  {
   "cell_type": "code",
   "execution_count": 2,
   "metadata": {},
   "outputs": [
    {
     "name": "stdout",
     "output_type": "stream",
     "text": [
      "O número 2 é par\n"
     ]
    }
   ],
   "source": [
    "while True:\n",
    "    try:\n",
    "        n1 = int(input('Digite um número: '))\n",
    "        break\n",
    "    except:\n",
    "        print('Digite um número inteiro')\n",
    "        \n",
    "    \n",
    "if n1 % 2 == 0:\n",
    "    print(f'O número {n1} é par')\n",
    "else:\n",
    "    print(f'O número {n1} é impar')"
   ]
  },
  {
   "cell_type": "code",
   "execution_count": 9,
   "metadata": {},
   "outputs": [
    {
     "name": "stdout",
     "output_type": "stream",
     "text": [
      "0\n",
      "1\n",
      "2\n",
      "3\n",
      "4\n",
      "5\n",
      "6\n",
      "7\n",
      "8\n",
      "9\n",
      "10\n",
      "Fim do programa\n"
     ]
    }
   ],
   "source": [
    "num_inicio = 0\n",
    "\n",
    "while num_inicio <= 10:\n",
    "    print(num_inicio)\n",
    "    num_inicio += 1\n",
    "print(\"Fim do programa\")"
   ]
  },
  {
   "cell_type": "code",
   "execution_count": 1,
   "metadata": {},
   "outputs": [
    {
     "name": "stdout",
     "output_type": "stream",
     "text": [
      "arroz\n",
      "feijão\n",
      "carne\n",
      "batata\n",
      "tomate\n",
      "alface\n",
      "cebola\n",
      "abacaxi\n",
      "banana\n",
      "laranja\n"
     ]
    }
   ],
   "source": [
    "alimentos = ['arroz', 'feijão', 'carne', 'batata', 'tomate', 'alface', 'cebola', 'abacaxi', 'banana', 'laranja']\n",
    "\n",
    "\n",
    "for alimento in alimentos:\n",
    "    print(alimento)"
   ]
  },
  {
   "cell_type": "code",
   "execution_count": 2,
   "metadata": {},
   "outputs": [
    {
     "name": "stdout",
     "output_type": "stream",
     "text": [
      "1\n",
      "2\n",
      "3\n",
      "4\n",
      "5\n",
      "6\n",
      "7\n",
      "8\n",
      "9\n",
      "10\n",
      "11\n",
      "12\n",
      "13\n",
      "14\n",
      "15\n",
      "16\n",
      "17\n",
      "18\n",
      "19\n",
      "20\n"
     ]
    }
   ],
   "source": [
    "init = int(input('Digite um número inicial: '))\n",
    "finish = int(input('Digite um número final: '))\n",
    "\n",
    "for i in range(init, finish + 1):\n",
    "    print(i)"
   ]
  },
  {
   "cell_type": "code",
   "execution_count": null,
   "metadata": {},
   "outputs": [
    {
     "name": "stdout",
     "output_type": "stream",
     "text": [
      "Tabuada do 5:\n",
      "5 x 1 = 5\n",
      "5 x 2 = 10\n",
      "5 x 3 = 15\n",
      "5 x 4 = 20\n",
      "5 x 5 = 25\n",
      "5 x 6 = 30\n",
      "5 x 7 = 35\n",
      "5 x 8 = 40\n",
      "5 x 9 = 45\n",
      "5 x 10 = 50\n"
     ]
    }
   ],
   "source": [
    "num = int(input(\"Digite um número: \"))\n",
    "print(f\"Tabuada do {num}:\")\n",
    "\n",
    "for i in range(1, 11):\n",
    "    print(f\"{num} x {i} = {num * i}\")"
   ]
  },
  {
   "cell_type": "code",
   "execution_count": 11,
   "metadata": {},
   "outputs": [
    {
     "name": "stdout",
     "output_type": "stream",
     "text": [
      "5 é um número primo.\n",
      "Total de divisores: 2\n"
     ]
    }
   ],
   "source": [
    "num = int(input(\"Digite um número: \"))  # Entrada do usuário\n",
    "divisores = 0  \n",
    "\n",
    "# Percorre de 1 até o número para contar os divisores\n",
    "for i in range(1, num + 1):\n",
    "    if num % i == 0:\n",
    "        divisores += 1  # Incrementa se for divisor\n",
    "\n",
    "# Verifica se é primo (tem apenas 2 divisores: 1 e ele mesmo)\n",
    "if divisores == 2:\n",
    "    print(f\"{num} é um número primo.\")\n",
    "else:\n",
    "    print(f\"{num} não é primo.\")\n",
    "\n",
    "print(f\"Total de divisores: {divisores}\")\n"
   ]
  },
  {
   "cell_type": "markdown",
   "metadata": {},
   "source": [
    "### Função Iinicial"
   ]
  },
  {
   "cell_type": "code",
   "execution_count": 12,
   "metadata": {},
   "outputs": [
    {
     "name": "stdout",
     "output_type": "stream",
     "text": [
      "20\n"
     ]
    }
   ],
   "source": [
    "def soma(a,b):\n",
    "    return a+b\n",
    "\n",
    "input_a = int(input(\"Digite o primeiro número: \"))\n",
    "input_b = int(input(\"Digite o segundo número: \"))\n",
    "print(soma(input_a, input_b))"
   ]
  },
  {
   "cell_type": "code",
   "execution_count": 13,
   "metadata": {},
   "outputs": [
    {
     "name": "stdout",
     "output_type": "stream",
     "text": [
      "8\n"
     ]
    }
   ],
   "source": [
    "def subtracao(a,b):\n",
    "    return a-b\n",
    "\n",
    "input_a = int(input(\"Digite o primeiro número: \"))\n",
    "input_b = int(input(\"Digite o segundo número: \"))\n",
    "print(subtracao(input_a, input_b))  "
   ]
  },
  {
   "cell_type": "code",
   "execution_count": null,
   "metadata": {},
   "outputs": [
    {
     "name": "stdout",
     "output_type": "stream",
     "text": [
      "O valor do INSS é: 640.0\n",
      "O valor do IRF é: 2200.0\n",
      "O salário líquido é: 5160.0\n"
     ]
    }
   ],
   "source": [
    "def inss (salario):\n",
    "    if salario >= 1:\n",
    "        return salario * 0.08\n",
    "\n",
    "def irf (irf_salario):\n",
    "    if irf_salario >= 7000:\n",
    "        return irf_salario * 0.275\n",
    "    elif irf_salario >= 5000:\n",
    "        return irf_salario * 0.15\n",
    "    \n",
    "salario = float(input(\"Digite o salário: \"))\n",
    "liquido =float( salario - inss(salario) - irf(irf_salario=salario))\n",
    "\n",
    "print(f\"O valor do INSS é: {inss(salario)}\")\n",
    "print(f\"O valor do IRF é: {irf(irf_salario  = salario)}\")\n",
    "print(f\"O salário líquido é: {liquido}\")"
   ]
  },
  {
   "cell_type": "code",
   "execution_count": null,
   "metadata": {},
   "outputs": [],
   "source": []
  }
 ],
 "metadata": {
  "kernelspec": {
   "display_name": "venv",
   "language": "python",
   "name": "python3"
  },
  "language_info": {
   "codemirror_mode": {
    "name": "ipython",
    "version": 3
   },
   "file_extension": ".py",
   "mimetype": "text/x-python",
   "name": "python",
   "nbconvert_exporter": "python",
   "pygments_lexer": "ipython3",
   "version": "3.12.3"
  }
 },
 "nbformat": 4,
 "nbformat_minor": 2
}
