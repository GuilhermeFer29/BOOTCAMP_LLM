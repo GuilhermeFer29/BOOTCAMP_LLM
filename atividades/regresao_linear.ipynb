{
 "cells": [
  {
   "cell_type": "markdown",
   "metadata": {},
   "source": [
    "#### Calculo de Regresao Linear simples  em Python sem bibliotecas"
   ]
  },
  {
   "cell_type": "code",
   "execution_count": null,
   "metadata": {},
   "outputs": [
    {
     "name": "stdout",
     "output_type": "stream",
     "text": [
      "9.1\n",
      "0.9814954576223637\n",
      "0.963333333333333\n"
     ]
    }
   ],
   "source": [
    "dadosx = input('Informe os valores de x separados por espaco: ')\n",
    "dadosy = input('Informe os valores de y separados por espaco: ')\n",
    "\n",
    "\n",
    "\n",
    "x = dadosx.split()\n",
    "\n",
    "y = dadosy.split()\n",
    "\n",
    "xq = [] \n",
    "\n",
    "yq = []\n",
    "\n",
    "xy = []\n",
    "\n",
    "for i in range(len(x)):\n",
    "    x[i] = float(x[i])\n",
    "    y[i] = float(y[i])\n",
    "    xq.append(x[i]**2)\n",
    "    yq.append(y[i]**2)\n",
    "    xy.append(x[i]*y[i])\n",
    "\n",
    "sx = sum(x)\n",
    "sy = sum(y)\n",
    "sxq = sum(xq)\n",
    "syq = sum(yq)\n",
    "sxy = sum(xy)    \n",
    "\n",
    "n = len(x)\n",
    "\n",
    "r = (sxy-( sx * sy / n)) / ((sxq-(sx**2 / n)) * (syq - (sy**2 / n)))**(1/2)\n",
    "\n",
    "select_y = input('Informe o valor de y que deseja prever: ')\n",
    "select_y = float(select_y)\n",
    "\n",
    "b = (sxy - (sx * sy / n)) / (sxq - (sx**2 / n))\n",
    "a = sy / n - b * sx / n\n",
    "\n",
    "y_pred = a + b * select_y\n",
    "\n",
    "\n",
    "print(r)\n",
    "print(r**2)\n",
    "print(y_pred)\n"
   ]
  },
  {
   "cell_type": "code",
   "execution_count": null,
   "metadata": {},
   "outputs": [],
   "source": []
  }
 ],
 "metadata": {
  "kernelspec": {
   "display_name": "venv",
   "language": "python",
   "name": "python3"
  },
  "language_info": {
   "codemirror_mode": {
    "name": "ipython",
    "version": 3
   },
   "file_extension": ".py",
   "mimetype": "text/x-python",
   "name": "python",
   "nbconvert_exporter": "python",
   "pygments_lexer": "ipython3",
   "version": "3.12.3"
  }
 },
 "nbformat": 4,
 "nbformat_minor": 2
}
