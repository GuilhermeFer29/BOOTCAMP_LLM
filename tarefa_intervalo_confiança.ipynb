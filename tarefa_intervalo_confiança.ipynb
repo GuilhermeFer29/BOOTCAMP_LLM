{
 "cells": [
  {
   "cell_type": "markdown",
   "metadata": {},
   "source": [
    "1.  \tA duração das lâmpadas de certo fabricante têm distribuição normal com desvio padrão de 150 horas. A duração média das lâmpadas de uma amostra de tamanho 120, retirada da produção, é 2000 horas. Estime por intervalo a duração média das lâmpadas produzidas pelo fabricante. Considere níveis de confiança de 95% e 99%."
   ]
  },
  {
   "cell_type": "code",
   "execution_count": 12,
   "metadata": {},
   "outputs": [],
   "source": [
    "import scipy.stats as sp\n",
    "import scipy "
   ]
  },
  {
   "cell_type": "markdown",
   "metadata": {},
   "source": [
    "### Intervalo de Confiança 95%"
   ]
  },
  {
   "cell_type": "code",
   "execution_count": 8,
   "metadata": {},
   "outputs": [
    {
     "data": {
      "text/plain": [
       "(np.float64(1973.162213159693), np.float64(2026.837786840307))"
      ]
     },
     "execution_count": 8,
     "metadata": {},
     "output_type": "execute_result"
    }
   ],
   "source": [
    "sp.norm.interval(0.95, 2000, 13.693 )"
   ]
  },
  {
   "cell_type": "code",
   "execution_count": 9,
   "metadata": {},
   "outputs": [
    {
     "data": {
      "text/plain": [
       "(np.float64(1964.729169346505), np.float64(2035.270830653495))"
      ]
     },
     "execution_count": 9,
     "metadata": {},
     "output_type": "execute_result"
    }
   ],
   "source": [
    "sp.norm.interval(0.99, 2000, 13.693 )"
   ]
  },
  {
   "cell_type": "code",
   "execution_count": 16,
   "metadata": {},
   "outputs": [
    {
     "data": {
      "text/plain": [
       "(13.133333333333333,\n",
       " 1.4319827906241327,\n",
       " (np.float64(12.620914288755642), np.float64(13.645752377911023)),\n",
       " (np.float64(12.459900555419566), np.float64(13.8067661112471)))"
      ]
     },
     "execution_count": 16,
     "metadata": {},
     "output_type": "execute_result"
    }
   ],
   "source": [
    "\n",
    "\n",
    "# Dados da amostra\n",
    "dados = [10, 11, 11, 11, 12, 12, 12, 12, 13, 13, 13, 13, 13, 13, 13, \n",
    "         13, 13, 13, 13, 13, 14, 14, 14, 14, 14, 15, 15, 15, 16, 16]\n",
    "\n",
    "# Estatísticas da amostra\n",
    "media_amostral = sum(dados) / len(dados)  # Média\n",
    "soma_quadrados = sum((x - media_amostral) ** 2 for x in dados)  # Soma dos quadrados das diferenças\n",
    "desvio_padrao_amostral = (soma_quadrados / (len(dados) - 1)) ** 0.5  # Desvio padrão amostral\n",
    "n = len(dados)\n",
    "\n",
    "# Erro padrão da média\n",
    "erro_padrao = desvio_padrao_amostral / (n ** 0.5)\n",
    "\n",
    "# Intervalos de confiança usando scipy.stats.norm.interval\n",
    "ic_95 = sp.norm.interval(0.95, media_amostral, erro_padrao)\n",
    "ic_99 = sp.norm.interval(0.99, media_amostral, erro_padrao)\n",
    "\n",
    "(media_amostral, desvio_padrao_amostral, ic_95, ic_99)\n",
    "\n",
    "\n"
   ]
  }
 ],
 "metadata": {
  "kernelspec": {
   "display_name": "venv",
   "language": "python",
   "name": "python3"
  },
  "language_info": {
   "codemirror_mode": {
    "name": "ipython",
    "version": 3
   },
   "file_extension": ".py",
   "mimetype": "text/x-python",
   "name": "python",
   "nbconvert_exporter": "python",
   "pygments_lexer": "ipython3",
   "version": "3.12.3"
  }
 },
 "nbformat": 4,
 "nbformat_minor": 2
}
