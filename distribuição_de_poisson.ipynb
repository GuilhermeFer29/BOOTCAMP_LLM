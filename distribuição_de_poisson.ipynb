{
 "cells": [
  {
   "cell_type": "code",
   "execution_count": 1,
   "metadata": {},
   "outputs": [],
   "source": [
    "import scipy.stats as sp"
   ]
  },
  {
   "cell_type": "code",
   "execution_count": null,
   "metadata": {},
   "outputs": [
    {
     "data": {
      "text/plain": [
       "np.float64(0.005308599473275576)"
      ]
     },
     "execution_count": 2,
     "metadata": {},
     "output_type": "execute_result"
    }
   ],
   "source": [
    "#p(k=4)\n",
    "sp.poisson.pmf(4,12)"
   ]
  },
  {
   "cell_type": "code",
   "execution_count": null,
   "metadata": {},
   "outputs": [
    {
     "data": {
      "text/plain": [
       "np.float64(0.043682189951524654)"
      ]
     },
     "execution_count": 3,
     "metadata": {},
     "output_type": "execute_result"
    }
   ],
   "source": [
    "#p(k=7)\n",
    "sp.poisson.pmf(7,12)"
   ]
  },
  {
   "cell_type": "code",
   "execution_count": 5,
   "metadata": {},
   "outputs": [
    {
     "data": {
      "text/plain": [
       "np.float64(0.08950449684017583)"
      ]
     },
     "execution_count": 5,
     "metadata": {},
     "output_type": "execute_result"
    }
   ],
   "source": [
    "sp.poisson.cdf(7,12)"
   ]
  },
  {
   "cell_type": "code",
   "execution_count": 6,
   "metadata": {},
   "outputs": [
    {
     "data": {
      "text/plain": [
       "np.float64(0.04582230688865106)"
      ]
     },
     "execution_count": 6,
     "metadata": {},
     "output_type": "execute_result"
    }
   ],
   "source": [
    "sp.poisson.cdf(6, 12)"
   ]
  },
  {
   "cell_type": "code",
   "execution_count": null,
   "metadata": {},
   "outputs": [],
   "source": [
    "k = 1 - sp.poisson.cdf(6, 12)"
   ]
  },
  {
   "cell_type": "code",
   "execution_count": 23,
   "metadata": {},
   "outputs": [
    {
     "name": "stdout",
     "output_type": "stream",
     "text": [
      "0.67%\n"
     ]
    }
   ],
   "source": [
    "#  Questao 1 - 5 lambada 0 intervalo\n",
    "\n",
    "q_1 =  sp.poisson.pmf(0, 5)\n",
    "\n",
    "print(f'{q_1*100:.2f}%')"
   ]
  },
  {
   "cell_type": "code",
   "execution_count": 28,
   "metadata": {},
   "outputs": [
    {
     "name": "stdout",
     "output_type": "stream",
     "text": [
      "14.29%\n"
     ]
    }
   ],
   "source": [
    "# Questão 2 :  lambda= 2 e intervalo >= 3 \n",
    "q2 = 1 - sp.poisson.cdf(3, 2)\n",
    "\n",
    "print(f'{q2*100:.2f}%')"
   ]
  },
  {
   "cell_type": "code",
   "execution_count": null,
   "metadata": {},
   "outputs": [
    {
     "name": "stdout",
     "output_type": "stream",
     "text": [
      "12.48%\n"
     ]
    }
   ],
   "source": [
    "# Questão 3 = lambada = 15 e intervalo <= 20\n",
    "\n",
    "q3 = 1 - sp.poisson.cdf(19, 15) \n",
    "\n",
    "print(f'{q3*100:.2f}%')"
   ]
  },
  {
   "cell_type": "code",
   "execution_count": 31,
   "metadata": {},
   "outputs": [
    {
     "name": "stdout",
     "output_type": "stream",
     "text": [
      "22.40%\n"
     ]
    }
   ],
   "source": [
    "# Questão 4 = lambda = 3 e intervalo > 3            \n",
    "\n",
    "q_4_a = sp.poisson.pmf(3, 3)\n",
    "\n",
    "print(f'{q_4_a*100:.2f}%')"
   ]
  },
  {
   "cell_type": "code",
   "execution_count": 32,
   "metadata": {},
   "outputs": [
    {
     "name": "stdout",
     "output_type": "stream",
     "text": [
      "57.68%\n"
     ]
    }
   ],
   "source": [
    "# Questao 4 = lambda = 3 intervalo >= 3\n",
    "\n",
    "q_4_b = 1 - sp.poisson.cdf(2, 3)\n",
    "\n",
    "print(f'{q_4_b*100:.2f}%')"
   ]
  },
  {
   "cell_type": "code",
   "execution_count": null,
   "metadata": {},
   "outputs": [
    {
     "data": {
      "text/plain": [
       "np.float64(0.5)"
      ]
     },
     "execution_count": 34,
     "metadata": {},
     "output_type": "execute_result"
    }
   ],
   "source": [
    "1 -sp.norm.cdf(100000, 100000, 10000) # Atende a condição para baixo"
   ]
  },
  {
   "cell_type": "code",
   "execution_count": 6,
   "metadata": {},
   "outputs": [
    {
     "name": "stdout",
     "output_type": "stream",
     "text": [
      "A probabilidade de que a vida seja maior ou igual a 480000 é de 2.28%\n"
     ]
    }
   ],
   "source": [
    "# Dia 10/03/2025\n",
    "\n",
    "a = sp.norm.cdf(480000, 500000, 10000)\n",
    "\n",
    "print(f'A probabilidade de que a vida seja maior ou igual a 480000 é de {a*100:.2f}%')"
   ]
  },
  {
   "cell_type": "code",
   "execution_count": null,
   "metadata": {},
   "outputs": [
    {
     "name": "stdout",
     "output_type": "stream",
     "text": [
      "A probabilidade de que a vida seja Maior ou igual a 480000 é de 97.72%\n"
     ]
    }
   ],
   "source": [
    "b = 1 - sp.norm.cdf(480000, 500000, 10000)\n",
    "\n",
    "print(f'A probabilidade de que a vida seja Maior que 480000 é de {b*100:.2f}%')"
   ]
  },
  {
   "cell_type": "code",
   "execution_count": 5,
   "metadata": {},
   "outputs": [
    {
     "name": "stdout",
     "output_type": "stream",
     "text": [
      "A probabilidade de que a vida seja menor ou igual a 520000 é de 97.72%\n"
     ]
    }
   ],
   "source": [
    "c = sp.norm.cdf(520000, 500000, 10000)\n",
    "\n",
    "print(f'A probabilidade de que a vida seja menor ou igual a 520000 é de {c*100:.2f}%')"
   ]
  },
  {
   "cell_type": "code",
   "execution_count": 9,
   "metadata": {},
   "outputs": [
    {
     "name": "stdout",
     "output_type": "stream",
     "text": [
      "A probabilidade de que a vida seja menor que 520000 é de 2.28%\n"
     ]
    }
   ],
   "source": [
    "d = 1 - sp.norm.cdf(520000, 500000, 10000)\n",
    "\n",
    "print(f'A probabilidade de que a vida seja menor que 520000 é de {d*100:.2f}%')"
   ]
  },
  {
   "cell_type": "code",
   "execution_count": 11,
   "metadata": {},
   "outputs": [
    {
     "name": "stdout",
     "output_type": "stream",
     "text": [
      "A probabilidade de que a vida útil seja entre 480000 e 520000 km é de 95.45%\n"
     ]
    }
   ],
   "source": [
    "e = c - a \n",
    "print(f'A probabilidade de que a vida útil seja entre 480000 e 520000 km é de {e*100:.2f}%')"
   ]
  }
 ],
 "metadata": {
  "kernelspec": {
   "display_name": "venv",
   "language": "python",
   "name": "python3"
  },
  "language_info": {
   "codemirror_mode": {
    "name": "ipython",
    "version": 3
   },
   "file_extension": ".py",
   "mimetype": "text/x-python",
   "name": "python",
   "nbconvert_exporter": "python",
   "pygments_lexer": "ipython3",
   "version": "3.12.3"
  }
 },
 "nbformat": 4,
 "nbformat_minor": 2
}
