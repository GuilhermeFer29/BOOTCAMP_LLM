{
 "cells": [
  {
   "cell_type": "code",
   "execution_count": 17,
   "metadata": {},
   "outputs": [],
   "source": [
    "import scipy.stats as sp"
   ]
  },
  {
   "cell_type": "code",
   "execution_count": 3,
   "metadata": {},
   "outputs": [
    {
     "name": "stdout",
     "output_type": "stream",
     "text": [
      "A probalidade de um leitor ler o jornal por 60 minutos é de 81.54%\n"
     ]
    }
   ],
   "source": [
    "a_1 = sp.norm.cdf(60 , 16 , 49)\n",
    "print(f'A probalidade de um leitor ler o jornal por 60 minutos é de {a_1*100:.2f}%')"
   ]
  },
  {
   "cell_type": "code",
   "execution_count": 4,
   "metadata": {},
   "outputs": [
    {
     "name": "stdout",
     "output_type": "stream",
     "text": [
      "A probalidade de um leitor ler nao mais que 30 minutos por dia é de 61.25%\n"
     ]
    }
   ],
   "source": [
    "b_1 = sp.norm.cdf(30, 16, 49)\n",
    "\n",
    "print(f'A probalidade de um leitor ler nao mais que 30 minutos por dia é de {b_1*100:.2f}%')"
   ]
  },
  {
   "cell_type": "code",
   "execution_count": 6,
   "metadata": {},
   "outputs": [
    {
     "name": "stdout",
     "output_type": "stream",
     "text": [
      "A propabilidade de se casar pela primeira vez com 23 anos é de 76.75%\n"
     ]
    }
   ],
   "source": [
    "a_2 =sp.norm.cdf(23, 4, 26)\n",
    "\n",
    "print(f'A propabilidade de se casar pela primeira vez com 23 anos é de {a_2*100:.2f}%')"
   ]
  },
  {
   "cell_type": "code",
   "execution_count": 7,
   "metadata": {},
   "outputs": [
    {
     "name": "stdout",
     "output_type": "stream",
     "text": [
      "A probabilidade de se casar a primeira vez com 20 anos ou menos é de 73.08%\n"
     ]
    }
   ],
   "source": [
    "b_2 = sp.norm.cdf(20, 4, 26)\n",
    "\n",
    "print(f'A probabilidade de se casar a primeira vez com 20 anos ou menos é de {b_2*100:.2f}%')"
   ]
  },
  {
   "cell_type": "code",
   "execution_count": 20,
   "metadata": {},
   "outputs": [
    {
     "name": "stdout",
     "output_type": "stream",
     "text": [
      "Caso (a) - Probabilidade de defeito: 0.3173, Defeitos esperados: 317\n",
      "Caso (b) - Probabilidade de defeito: 0.0027, Defeitos esperados: 3\n"
     ]
    }
   ],
   "source": [
    "mu = 10\n",
    "\n",
    "# Valores limite para defeito\n",
    "limite_inferior = 9.85\n",
    "limite_superior = 10.15\n",
    "\n",
    "# Caso (a) - Desvio padrão 0.15\n",
    "sigma_a = 0.15\n",
    "z_inferior_a = (limite_inferior - mu) / sigma_a\n",
    "z_superior_a = (limite_superior - mu) / sigma_a\n",
    "prob_defeito_a = sp.norm.cdf(z_inferior_a) + (1 - sp.norm.cdf(z_superior_a))\n",
    "defeitos_a = prob_defeito_a * 1000\n",
    "print(f\"Caso (a) - Probabilidade de defeito: {prob_defeito_a:.4f}, Defeitos esperados: {defeitos_a:.0f}\")\n",
    "\n",
    "# Caso (b) - Desvio padrão 0.05\n",
    "sigma_b = 0.05\n",
    "z_inferior_b = (limite_inferior - mu) / sigma_b\n",
    "z_superior_b = (limite_superior - mu) / sigma_b\n",
    "prob_defeito_b = sp.norm.cdf(z_inferior_b) + (1 - sp.norm.cdf(z_superior_b))\n",
    "defeitos_b = prob_defeito_b * 1000\n",
    "print(f\"Caso (b) - Probabilidade de defeito: {prob_defeito_b:.4f}, Defeitos esperados: {defeitos_b:.0f}\")\n"
   ]
  },
  {
   "cell_type": "code",
   "execution_count": 10,
   "metadata": {},
   "outputs": [
    {
     "name": "stdout",
     "output_type": "stream",
     "text": [
      "A probabilidade de desempregado entre 80000 e 150000 é de 72.17%\n"
     ]
    }
   ],
   "source": [
    "a_4_1 = sp.norm.cdf(80000, 126681, 30000)\n",
    "a_4_2 = sp.norm.cdf(150000, 126681, 30000)\n",
    "a_4_3 = a_4_2 - a_4_1\n",
    "print(f'A probabilidade de desempregado entre 80000 e 150000 é de {a_4_3*100:.2f}%')"
   ]
  },
  {
   "cell_type": "code",
   "execution_count": 11,
   "metadata": {},
   "outputs": [
    {
     "name": "stdout",
     "output_type": "stream",
     "text": [
      "A probabilidade de desempregado com menos de 50000 é de 0.53%\n"
     ]
    }
   ],
   "source": [
    "b_4 = sp.norm.cdf(50000, 126681, 30000)\n",
    "print(f'A probabilidade de desempregado com menos de 50000 é de {b_4*100:.2f}%')"
   ]
  },
  {
   "cell_type": "code",
   "execution_count": null,
   "metadata": {},
   "outputs": [
    {
     "name": "stdout",
     "output_type": "stream",
     "text": [
      "A probalidade de um pneu durar menos de 45000 km é de 2.28\n"
     ]
    }
   ],
   "source": [
    "a_5 = sp.norm.cdf(45000, 50000, 2500)\n",
    "print(f'A probalidade de um pneu durar menos de 45000 km é de {a_5*100:.2f}%')"
   ]
  },
  {
   "cell_type": "code",
   "execution_count": 13,
   "metadata": {},
   "outputs": [
    {
     "name": "stdout",
     "output_type": "stream",
     "text": [
      "A probabilidade de um pneu durar mais de 57.000 km é de 0.26%\n"
     ]
    }
   ],
   "source": [
    "b_5 = 1 - sp.norm.cdf(57000, 50000, 2500)\n",
    "\n",
    "print(f'A probabilidade de um pneu durar mais de 57.000 km é de {b_5*100:.2f}%')"
   ]
  },
  {
   "cell_type": "code",
   "execution_count": null,
   "metadata": {},
   "outputs": [
    {
     "name": "stdout",
     "output_type": "stream",
     "text": [
      "A probabilidade de ser devolvido a fabrica é de  99.93%\n"
     ]
    }
   ],
   "source": [
    "c_5 =  1 - sp.norm.cdf(42000, 50000, 2500)\n",
    "\n",
    "print(f'A probabilidade de ser devolvido a fabrica é de {c_5*100:.2f}%')\n"
   ]
  }
 ],
 "metadata": {
  "kernelspec": {
   "display_name": "venv",
   "language": "python",
   "name": "python3"
  },
  "language_info": {
   "codemirror_mode": {
    "name": "ipython",
    "version": 3
   },
   "file_extension": ".py",
   "mimetype": "text/x-python",
   "name": "python",
   "nbconvert_exporter": "python",
   "pygments_lexer": "ipython3",
   "version": "3.12.3"
  }
 },
 "nbformat": 4,
 "nbformat_minor": 2
}
