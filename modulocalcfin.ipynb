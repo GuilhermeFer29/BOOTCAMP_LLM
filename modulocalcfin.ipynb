{
 "cells": [
  {
   "cell_type": "code",
   "execution_count": 1,
   "metadata": {},
   "outputs": [],
   "source": [
    "import calcfin as cf"
   ]
  },
  {
   "cell_type": "code",
   "execution_count": 4,
   "metadata": {},
   "outputs": [
    {
     "name": "stdout",
     "output_type": "stream",
     "text": [
      "O valor resgatado é de R$153,637.93\n"
     ]
    }
   ],
   "source": [
    "cf.fv(pv=10000,n = 36 , i = 1.2)\n",
    "\n",
    "print(f'O valor resgatado é de R${cf.fv(pv=100000,n = 36 , i = 1.2):,.2f}')"
   ]
  },
  {
   "cell_type": "code",
   "execution_count": 3,
   "metadata": {},
   "outputs": [
    {
     "name": "stdout",
     "output_type": "stream",
     "text": [
      "Valor das prestações: R$2,916.28\n"
     ]
    }
   ],
   "source": [
    "cf.pmt(pv=90000, i=1.97 , n=48)\n",
    "\n",
    "print(f'Valor das prestações: R${cf.pmt(pv=90000, i=1.97 , n=48):,.2f}')"
   ]
  }
 ],
 "metadata": {
  "kernelspec": {
   "display_name": "venv",
   "language": "python",
   "name": "python3"
  },
  "language_info": {
   "codemirror_mode": {
    "name": "ipython",
    "version": 3
   },
   "file_extension": ".py",
   "mimetype": "text/x-python",
   "name": "python",
   "nbconvert_exporter": "python",
   "pygments_lexer": "ipython3",
   "version": "3.12.3"
  }
 },
 "nbformat": 4,
 "nbformat_minor": 2
}
