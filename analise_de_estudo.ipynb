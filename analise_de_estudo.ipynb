{
 "cells": [
  {
   "cell_type": "code",
   "execution_count": null,
   "metadata": {},
   "outputs": [],
   "source": [
    "from scipy.stats import binom "
   ]
  },
  {
   "cell_type": "code",
   "execution_count": 15,
   "metadata": {},
   "outputs": [
    {
     "name": "stdout",
     "output_type": "stream",
     "text": [
      "A probabilidade de não ter nenhum sucesso é: 0.343\n"
     ]
    }
   ],
   "source": [
    "p_0 = binom.pmf(0, 3 , 0.3)\n",
    "print(f'A probabilidade de não ter nenhum sucesso é: {p_0:.3f}')\n"
   ]
  },
  {
   "cell_type": "code",
   "execution_count": 45,
   "metadata": {},
   "outputs": [],
   "source": [
    "def binomial():\n",
    "    from scipy.stats import binom\n",
    "    p = float(input(\"Digite a probabilidade de sucesso: \"))\n",
    "    n = int(input(\"Digite o número de tentativas: \"))\n",
    "    k = int(input(\"Digite o valor desejado: \"))\n",
    "    probabilidade = binom.pmf(k, n, p)\n",
    "    print(f'A probabilidade de não ter nenhum sucesso é: {probabilidade:.3f} ou  {probabilidade*100:.2f}%')\n",
    "    \n",
    "    "
   ]
  },
  {
   "cell_type": "markdown",
   "metadata": {},
   "source": [
    "### Questão 3 "
   ]
  },
  {
   "cell_type": "code",
   "execution_count": 64,
   "metadata": {},
   "outputs": [
    {
     "name": "stdout",
     "output_type": "stream",
     "text": [
      "0.6561 ou  65.61%\n"
     ]
    }
   ],
   "source": [
    "def_0 = binom.pmf(0 , 4, 0.1)\n",
    "print(f'{def_0:.4f} ou  {def_0*100:.2f}%')"
   ]
  },
  {
   "cell_type": "code",
   "execution_count": 65,
   "metadata": {},
   "outputs": [
    {
     "name": "stdout",
     "output_type": "stream",
     "text": [
      "0.2916 ou  29.16%\n"
     ]
    }
   ],
   "source": [
    "def_1 = binom.pmf(1, 4, 0.1)\n",
    "print(f'{def_1:.4f} ou  {def_1*100:.2f}%')"
   ]
  },
  {
   "cell_type": "code",
   "execution_count": null,
   "metadata": {},
   "outputs": [
    {
     "name": "stdout",
     "output_type": "stream",
     "text": [
      "0.3439 ou  34.39%\n"
     ]
    }
   ],
   "source": [
    "def_1_mais = binom.pmf(0, 4, 0.1)\n",
    "def_1_mais_R = 1 - def_1_mais\n",
    "\n",
    "print(f'{def_1_mais_R:.4f} ou  {def_1_mais_R*100:.2f}%')"
   ]
  },
  {
   "cell_type": "code",
   "execution_count": 68,
   "metadata": {},
   "outputs": [
    {
     "name": "stdout",
     "output_type": "stream",
     "text": [
      "0.95 ou  94.77%\n"
     ]
    }
   ],
   "source": [
    "def_1_menos = binom.cdf(1, 4, 0.1)\n",
    "print(f'{def_1_menos:.2} ou  {def_1_menos*100:.2f}%')"
   ]
  },
  {
   "cell_type": "code",
   "execution_count": 69,
   "metadata": {},
   "outputs": [
    {
     "name": "stdout",
     "output_type": "stream",
     "text": [
      "0.05 ou  4.86%\n"
     ]
    }
   ],
   "source": [
    "def_2 = binom.pmf(2, 4, 0.1)\n",
    "print(f'{def_2:.2f} ou  {def_2*100:.2f}%')"
   ]
  },
  {
   "cell_type": "code",
   "execution_count": 71,
   "metadata": {},
   "outputs": [
    {
     "name": "stdout",
     "output_type": "stream",
     "text": [
      "1.00 ou  99.63%\n"
     ]
    }
   ],
   "source": [
    "def_2_max = binom.cdf(2, 4, 0.1)\n",
    "print(f'{def_2_max:.2f} ou  {def_2_max*100:.2f}%' )"
   ]
  },
  {
   "cell_type": "code",
   "execution_count": 72,
   "metadata": {},
   "outputs": [
    {
     "name": "stdout",
     "output_type": "stream",
     "text": [
      "0.71 ou 70.84%\n"
     ]
    }
   ],
   "source": [
    "def_2_min = binom.pmf(1, 4, 0.1)\n",
    "def_2_min_R = 1 - def_2_min\n",
    "\n",
    "print(f'{def_2_min_R:.2f} ou {def_2_min_R*100:.2f}%')"
   ]
  },
  {
   "cell_type": "code",
   "execution_count": 73,
   "metadata": {},
   "outputs": [
    {
     "name": "stdout",
     "output_type": "stream",
     "text": [
      "1.00 ou 99.99%\n"
     ]
    }
   ],
   "source": [
    "def_3 = binom.cdf(3, 4, 0.1)\n",
    "\n",
    "print(f'{def_3:.2f} ou {def_3*100:.2f}%')"
   ]
  },
  {
   "cell_type": "markdown",
   "metadata": {},
   "source": [
    "### Questao 4 "
   ]
  },
  {
   "cell_type": "code",
   "execution_count": 74,
   "metadata": {},
   "outputs": [
    {
     "name": "stdout",
     "output_type": "stream",
     "text": [
      "0.20 ou 20.13%\n"
     ]
    }
   ],
   "source": [
    "ex_7 = binom.pmf(7, 10, 0.8)\n",
    "\n",
    "print(f'{ex_7:.2f} ou {ex_7*100:.2f}%')"
   ]
  },
  {
   "cell_type": "code",
   "execution_count": 75,
   "metadata": {},
   "outputs": [
    {
     "name": "stdout",
     "output_type": "stream",
     "text": [
      "0.62 ou 62.42%\n"
     ]
    }
   ],
   "source": [
    "n_mais_8 = binom.cdf(8, 10, 0.8)\n",
    "\n",
    "print(f'{n_mais_8:.2f} ou {n_mais_8*100:.2f}%')"
   ]
  },
  {
   "cell_type": "code",
   "execution_count": 76,
   "metadata": {},
   "outputs": [
    {
     "name": "stdout",
     "output_type": "stream",
     "text": [
      "1.00 ou 99.99%\n"
     ]
    }
   ],
   "source": [
    "p_3 = binom.pmf(2, 10, 0.8)\n",
    "\n",
    "p_3_R = 1 - p_3\n",
    "\n",
    "print(f'{p_3_R:.2f} ou {p_3_R*100:.2f}%')"
   ]
  },
  {
   "cell_type": "markdown",
   "metadata": {},
   "source": [
    "### Questão 4"
   ]
  },
  {
   "cell_type": "code",
   "execution_count": 80,
   "metadata": {},
   "outputs": [
    {
     "name": "stdout",
     "output_type": "stream",
     "text": [
      "0.95 ou 95.10%\n"
     ]
    }
   ],
   "source": [
    "n_0 = binom.pmf(0, 5, 0.01)\n",
    "print(f'{n_0:.2} ou {n_0*100:.2f}%') "
   ]
  },
  {
   "cell_type": "code",
   "execution_count": 81,
   "metadata": {},
   "outputs": [
    {
     "name": "stdout",
     "output_type": "stream",
     "text": [
      "0.05 ou 4.80%\n"
     ]
    }
   ],
   "source": [
    "exact_1 = binom.pmf(1, 5, 0.01)\n",
    "\n",
    "print(f'{exact_1:.2f} ou {exact_1*100:.2f}%')"
   ]
  },
  {
   "cell_type": "code",
   "execution_count": 82,
   "metadata": {},
   "outputs": [
    {
     "name": "stdout",
     "output_type": "stream",
     "text": [
      "0.05 ou 4.90%\n"
     ]
    }
   ],
   "source": [
    "menos_1 = binom.pmf(0, 5, 0.01)\n",
    "menos_1_R = 1 - menos_1\n",
    "\n",
    "print(f'{menos_1_R:.2f} ou {menos_1_R*100:.2f}%')"
   ]
  },
  {
   "cell_type": "markdown",
   "metadata": {},
   "source": [
    "### Questão 2"
   ]
  },
  {
   "cell_type": "code",
   "execution_count": 59,
   "metadata": {},
   "outputs": [
    {
     "name": "stdout",
     "output_type": "stream",
     "text": [
      "0.990 ou  99.00%\n"
     ]
    }
   ],
   "source": [
    "sistema_1 = binom.pmf(0 , 2 ,0.9)\n",
    "sistema_R = 1 - sistema_1\n",
    "\n",
    "print(f'{sistema_R:.3f} ou  {sistema_R*100:.2f}%')"
   ]
  },
  {
   "cell_type": "code",
   "execution_count": 60,
   "metadata": {},
   "outputs": [
    {
     "name": "stdout",
     "output_type": "stream",
     "text": [
      "0.999 ou  99.90%\n"
     ]
    }
   ],
   "source": [
    "sistema_2 = binom.pmf(0, 3, 0.9)\n",
    "sistema_R2 = 1 -  sistema_2\n",
    "\n",
    "print(f'{sistema_R2:.3f} ou  {sistema_R2*100:.2f}%')"
   ]
  },
  {
   "cell_type": "markdown",
   "metadata": {},
   "source": [
    "### Questão 1"
   ]
  },
  {
   "cell_type": "code",
   "execution_count": 57,
   "metadata": {},
   "outputs": [
    {
     "name": "stdout",
     "output_type": "stream",
     "text": [
      "0.401 ou  40.13%\n"
     ]
    }
   ],
   "source": [
    "p_x0 = binom.pmf(0, 10, 0.05)\n",
    "p_geq1 = 1 - p_x0\n",
    "\n",
    "print(f'{p_geq1:.3f} ou  {p_geq1*100:.2f}%')"
   ]
  },
  {
   "cell_type": "code",
   "execution_count": 83,
   "metadata": {},
   "outputs": [
    {
     "name": "stdout",
     "output_type": "stream",
     "text": [
      " 0.599 ou 59.87%\n"
     ]
    }
   ],
   "source": [
    "p_acumulado_2 = binom.cdf(0, 10 , 0.05)\n",
    "\n",
    "print(f' {p_acumulado_2:.3f} ou {p_acumulado_2*100:.2f}%')"
   ]
  }
 ],
 "metadata": {
  "kernelspec": {
   "display_name": "venv",
   "language": "python",
   "name": "python3"
  },
  "language_info": {
   "codemirror_mode": {
    "name": "ipython",
    "version": 3
   },
   "file_extension": ".py",
   "mimetype": "text/x-python",
   "name": "python",
   "nbconvert_exporter": "python",
   "pygments_lexer": "ipython3",
   "version": "3.12.3"
  }
 },
 "nbformat": 4,
 "nbformat_minor": 2
}
