{
 "cells": [
  {
   "cell_type": "code",
   "execution_count": 14,
   "metadata": {},
   "outputs": [],
   "source": [
    "from scipy.stats import binom"
   ]
  },
  {
   "cell_type": "code",
   "execution_count": 15,
   "metadata": {},
   "outputs": [
    {
     "name": "stdout",
     "output_type": "stream",
     "text": [
      "A probabilidade de não ter nenhum sucesso é: 0.343\n"
     ]
    }
   ],
   "source": [
    "p_0 = binom.pmf(0, 3 , 0.3)\n",
    "print(f'A probabilidade de não ter nenhum sucesso é: {p_0:.3f}')\n"
   ]
  },
  {
   "cell_type": "code",
   "execution_count": 16,
   "metadata": {},
   "outputs": [],
   "source": [
    "def binomial():\n",
    "    from scipy.stats import binom\n",
    "    p = float(input(\"Digite a probabilidade de sucesso: \"))\n",
    "    n = int(input(\"Digite o número de tentativas: \"))\n",
    "    k = int(input(\"Digite o valor desejado: \"))\n",
    "    probabilidade = binom.pmf(k, n, p)\n",
    "    print(f'A probabilidade de não ter nenhum sucesso é: {probabilidade:.3f} ou  {probabilidade*100:.2f}%')\n",
    "    \n",
    "    "
   ]
  },
  {
   "cell_type": "code",
   "execution_count": 12,
   "metadata": {},
   "outputs": [
    {
     "name": "stdout",
     "output_type": "stream",
     "text": [
      "A probabilidade de não ter nenhum sucesso é: 0.343 ou  34.30%\n"
     ]
    }
   ],
   "source": [
    "binom()"
   ]
  },
  {
   "cell_type": "code",
   "execution_count": 17,
   "metadata": {},
   "outputs": [
    {
     "name": "stdout",
     "output_type": "stream",
     "text": [
      "A probabilidade de ter 2 ou menos sucesso é: 0.973\n"
     ]
    }
   ],
   "source": [
    "p_acumulado_2 = binom.cdf(2, 3 , 0.3)\n",
    "\n",
    "print(f'A probabilidade de ter 2 ou menos sucesso é: {p_acumulado_2:.3f}')"
   ]
  }
 ],
 "metadata": {
  "kernelspec": {
   "display_name": "venv",
   "language": "python",
   "name": "python3"
  },
  "language_info": {
   "codemirror_mode": {
    "name": "ipython",
    "version": 3
   },
   "file_extension": ".py",
   "mimetype": "text/x-python",
   "name": "python",
   "nbconvert_exporter": "python",
   "pygments_lexer": "ipython3",
   "version": "3.12.3"
  }
 },
 "nbformat": 4,
 "nbformat_minor": 2
}
